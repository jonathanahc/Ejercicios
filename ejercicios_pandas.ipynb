{
  "nbformat": 4,
  "nbformat_minor": 0,
  "metadata": {
    "colab": {
      "provenance": []
    },
    "kernelspec": {
      "name": "python3",
      "display_name": "Python 3"
    },
    "language_info": {
      "name": "python"
    }
  },
  "cells": [
    {
      "cell_type": "markdown",
      "source": [
        "**Crear un DataFrame desde un diccionario**\n",
        "\n",
        "Ejercicio: Crea un DataFrame con los siguientes datos de estudiantes y sus notas en dos asignaturas."
      ],
      "metadata": {
        "id": "KRJJ6tOxbVm3"
      }
    },
    {
      "cell_type": "code",
      "execution_count": null,
      "metadata": {
        "colab": {
          "base_uri": "https://localhost:8080/"
        },
        "id": "tIYYgS_wbUPT",
        "outputId": "d52d4fad-3bb7-40d6-a1e3-230c445cc388"
      },
      "outputs": [
        {
          "output_type": "stream",
          "name": "stdout",
          "text": [
            "  Estudiante  Matemáticas  Lengua\n",
            "0       Juan            8       7\n",
            "1      María            9       9\n",
            "2      Pedro            6       8\n",
            "3        Ana            7       6\n"
          ]
        }
      ],
      "source": [
        "import pandas as pd\n",
        "\n",
        "# Datos de estudiantes\n",
        "data = {\n",
        "    'Estudiante': ['Juan', 'María', 'Pedro', 'Ana'],\n",
        "    'Matemáticas': [8, 9, 6, 7],\n",
        "    'Lengua': [7, 9, 8, 6]\n",
        "}\n",
        "\n",
        "# Crear DataFrame\n",
        "df = pd.DataFrame(data)\n",
        "print(df)\n"
      ]
    },
    {
      "cell_type": "markdown",
      "source": [
        "**Acceder a columnas y filas**\n",
        "\n",
        "Ejercicio: Usa el DataFrame anterior y muestra solo las notas de Matemáticas y el nombre del estudiante que tiene la nota más alta en esta asignatura."
      ],
      "metadata": {
        "id": "9KDonhfObij0"
      }
    },
    {
      "cell_type": "code",
      "source": [
        "# Nota más alta en Matemáticas\n",
        "mejor_alumno = df.loc[df['Matemáticas'].idxmax()]\n",
        "\n",
        "# Mostrar el nombre del estudiante y la nota\n",
        "print(mejor_alumno[['Estudiante', 'Matemáticas']])"
      ],
      "metadata": {
        "colab": {
          "base_uri": "https://localhost:8080/"
        },
        "id": "DiWr9E08biNK",
        "outputId": "3a4ce493-83b5-4619-924b-716dc325968f"
      },
      "execution_count": null,
      "outputs": [
        {
          "output_type": "stream",
          "name": "stdout",
          "text": [
            "Estudiante     María\n",
            "Matemáticas        9\n",
            "Name: 1, dtype: object\n"
          ]
        }
      ]
    },
    {
      "cell_type": "markdown",
      "source": [
        "**Filtrar datos**\n",
        "\n",
        "Ejercicio: Filtra los estudiantes que tengan una nota mayor o igual a 8 en Lengua."
      ],
      "metadata": {
        "id": "LCd0AOtBcBBW"
      }
    },
    {
      "cell_type": "code",
      "source": [
        "# Filtrar estudiantes con nota >= 8 en Lengua\n",
        "estudiantes_buenos = df[df['Lengua'] >= 8]\n",
        "print(estudiantes_buenos)\n"
      ],
      "metadata": {
        "colab": {
          "base_uri": "https://localhost:8080/"
        },
        "id": "xeoI13wgcrFg",
        "outputId": "9bacb568-7771-4d0e-96dc-f96e3e1d09de"
      },
      "execution_count": null,
      "outputs": [
        {
          "output_type": "stream",
          "name": "stdout",
          "text": [
            "  Estudiante  Matemáticas  Lengua\n",
            "1      María            9       9\n",
            "2      Pedro            6       8\n"
          ]
        }
      ]
    },
    {
      "cell_type": "markdown",
      "source": [
        "**Agregar una nueva columna**\n",
        "\n",
        "Ejercicio: Agrega una columna Promedio que sea el promedio de las dos asignaturas (Matemáticas y Lengua)."
      ],
      "metadata": {
        "id": "S7i055uncwPo"
      }
    },
    {
      "cell_type": "code",
      "source": [
        "# Crear nueva columna 'Promedio'\n",
        "df['Promedio'] = df[['Matemáticas', 'Lengua']].mean(axis=1)\n",
        "print(df)\n"
      ],
      "metadata": {
        "colab": {
          "base_uri": "https://localhost:8080/"
        },
        "id": "Hcyle9q8cuLh",
        "outputId": "e7214e54-7450-4b82-bb4f-f0ce0cc8036e"
      },
      "execution_count": null,
      "outputs": [
        {
          "output_type": "stream",
          "name": "stdout",
          "text": [
            "  Estudiante  Matemáticas  Lengua  Promedio\n",
            "0       Juan            8       7       7.5\n",
            "1      María            9       9       9.0\n",
            "2      Pedro            6       8       7.0\n",
            "3        Ana            7       6       6.5\n"
          ]
        }
      ]
    },
    {
      "cell_type": "markdown",
      "source": [
        "**Agrupar datos**\n",
        "\n",
        "Ejercicio: Si tuviéramos datos de diferentes cursos, puedes agrupar por curso y obtener la nota promedio en cada asignatura."
      ],
      "metadata": {
        "id": "zARVc-_kc0zf"
      }
    },
    {
      "cell_type": "code",
      "source": [
        "import pandas as pd\n",
        "\n",
        "# Crear DataFrame con curso\n",
        "data_con_curso = {\n",
        "    'Estudiante': ['Juan', 'María', 'Pedro', 'Ana', 'Luis'],\n",
        "    'Curso': ['A', 'A', 'B', 'B', 'A'],\n",
        "    'Matemáticas': [8, 9, 6, 7, 8],\n",
        "    'Lengua': [7, 9, 8, 6, 8]\n",
        "}\n",
        "df_curso = pd.DataFrame(data_con_curso)\n",
        "\n",
        "# Agrupar por curso y calcular el promedio por asignatura solo para las columnas numéricas\n",
        "promedios_curso = df_curso.groupby('Curso').agg({\n",
        "    'Matemáticas': 'mean',\n",
        "    'Lengua': 'mean'\n",
        "})\n",
        "\n",
        "# Mostrar los promedios por curso\n",
        "print(promedios_curso)\n",
        "\n",
        "\n",
        "\n"
      ],
      "metadata": {
        "colab": {
          "base_uri": "https://localhost:8080/"
        },
        "id": "Lm81qsoUc_QZ",
        "outputId": "869f2afa-af10-40d2-fcf5-def532ef69f9"
      },
      "execution_count": null,
      "outputs": [
        {
          "output_type": "stream",
          "name": "stdout",
          "text": [
            "       Matemáticas  Lengua\n",
            "Curso                     \n",
            "A         8.333333     8.0\n",
            "B         6.500000     7.0\n"
          ]
        }
      ]
    },
    {
      "cell_type": "markdown",
      "source": [
        "**Ordenar los datos**\n",
        "\n",
        "Ejercicio: Ordena el DataFrame de estudiantes por el promedio de mayor a menor."
      ],
      "metadata": {
        "id": "XJUM9fnhdiYq"
      }
    },
    {
      "cell_type": "code",
      "source": [
        "# Ordenar por Promedio de mayor a menor\n",
        "df_sorted = df.sort_values(by='Promedio', ascending=False)\n",
        "print(df_sorted)\n"
      ],
      "metadata": {
        "colab": {
          "base_uri": "https://localhost:8080/"
        },
        "id": "LKD4Ct_ndpC3",
        "outputId": "63edf101-19f2-4dde-d19a-37e585740a4f"
      },
      "execution_count": null,
      "outputs": [
        {
          "output_type": "stream",
          "name": "stdout",
          "text": [
            "  Estudiante  Matemáticas  Lengua  Promedio\n",
            "1      María            9       9       9.0\n",
            "0       Juan            8       7       7.5\n",
            "2      Pedro            6       8       7.0\n",
            "3        Ana            7       6       6.5\n"
          ]
        }
      ]
    },
    {
      "cell_type": "markdown",
      "source": [
        "**Eliminar columnas**\n",
        "\n",
        "Ejercicio: Elimina la columna Lengua del DataFrame."
      ],
      "metadata": {
        "id": "DcZWOXNYdssk"
      }
    },
    {
      "cell_type": "code",
      "source": [
        "# Eliminar la columna 'Lengua'\n",
        "df_sin_lengua = df.drop(columns=['Lengua'])\n",
        "print(df_sin_lengua)\n"
      ],
      "metadata": {
        "colab": {
          "base_uri": "https://localhost:8080/"
        },
        "id": "YVhQO5Uedvjs",
        "outputId": "6fb24543-7e4d-4760-e733-65d124c55b96"
      },
      "execution_count": null,
      "outputs": [
        {
          "output_type": "stream",
          "name": "stdout",
          "text": [
            "  Estudiante  Matemáticas  Promedio\n",
            "0       Juan            8       7.5\n",
            "1      María            9       9.0\n",
            "2      Pedro            6       7.0\n",
            "3        Ana            7       6.5\n"
          ]
        }
      ]
    },
    {
      "cell_type": "markdown",
      "source": [
        "**Manejar valores nulos**\n",
        "\n",
        "Ejercicio: Añade un valor nulo (NaN) en alguna columna y muestra cómo manejarlo, por ejemplo, rellenándolo con un valor específico."
      ],
      "metadata": {
        "id": "29CNCGgdgR2C"
      }
    },
    {
      "cell_type": "code",
      "source": [
        "import numpy as np\n",
        "\n",
        "# Añadir un NaN en el DataFrame\n",
        "df.loc[2, 'Matemáticas'] = np.nan\n",
        "\n",
        "# Rellenar los NaN con el valor 0\n",
        "df_llenado = df.fillna(0)\n",
        "print(df_llenado)\n"
      ],
      "metadata": {
        "colab": {
          "base_uri": "https://localhost:8080/"
        },
        "id": "CnGl85VigVzZ",
        "outputId": "6e4bdbec-cec7-4189-ad7e-4d08cc38e7ba"
      },
      "execution_count": null,
      "outputs": [
        {
          "output_type": "stream",
          "name": "stdout",
          "text": [
            "  Estudiante  Matemáticas  Lengua  Promedio\n",
            "0       Juan          8.0       7       7.5\n",
            "1      María          9.0       9       9.0\n",
            "2      Pedro          0.0       8       7.0\n",
            "3        Ana          7.0       6       6.5\n"
          ]
        }
      ]
    },
    {
      "cell_type": "markdown",
      "source": [
        "**Operaciones de conjunto**\n",
        "\n",
        "Ejercicio: Usa el método merge para combinar dos DataFrames. Supón que tienes datos de estudiantes y sus cursos, y otro DataFrame con las notas finales."
      ],
      "metadata": {
        "id": "McKZTS2egYNw"
      }
    },
    {
      "cell_type": "code",
      "source": [
        "# Datos de estudiantes y cursos\n",
        "data_estudiantes = {\n",
        "    'Estudiante': ['Juan', 'María', 'Pedro', 'Ana'],\n",
        "    'Curso': ['A', 'A', 'B', 'B']\n",
        "}\n",
        "df_estudiantes = pd.DataFrame(data_estudiantes)\n",
        "\n",
        "# Datos de notas finales\n",
        "data_notas = {\n",
        "    'Estudiante': ['Juan', 'María', 'Pedro', 'Ana'],\n",
        "    'Nota_Final': [7, 9, 6, 8]\n",
        "}\n",
        "df_notas = pd.DataFrame(data_notas)\n",
        "\n",
        "# Unir los dos DataFrames por la columna 'Estudiante'\n",
        "df_combinado = pd.merge(df_estudiantes, df_notas, on='Estudiante')\n",
        "print(df_combinado)\n"
      ],
      "metadata": {
        "colab": {
          "base_uri": "https://localhost:8080/"
        },
        "id": "QLgxrkxogX5Q",
        "outputId": "c2a459cd-19e9-417f-b7ed-45ee91fadf80"
      },
      "execution_count": null,
      "outputs": [
        {
          "output_type": "stream",
          "name": "stdout",
          "text": [
            "  Estudiante Curso  Nota_Final\n",
            "0       Juan     A           7\n",
            "1      María     A           9\n",
            "2      Pedro     B           6\n",
            "3        Ana     B           8\n"
          ]
        }
      ]
    },
    {
      "cell_type": "markdown",
      "source": [
        "** Generar un archivo CSV**\n",
        "\n",
        "Generamos un archivo CSV con datos de estudiantes, sus asignaturas y notas.\n"
      ],
      "metadata": {
        "id": "S8Gnp6ingyFi"
      }
    },
    {
      "cell_type": "code",
      "source": [
        "import pandas as pd\n",
        "\n",
        "# Crear datos ficticios de estudiantes, asignaturas y notas\n",
        "data = {\n",
        "    'Estudiante': ['Juan', 'María', 'Pedro', 'Ana', 'Luis', 'Sofía', 'Carlos', 'Elena'],\n",
        "    'Curso': ['A', 'A', 'B', 'B', 'A', 'A', 'B', 'B'],\n",
        "    'Matemáticas': [8, 9, 6, 7, 8, 9, 5, 6],\n",
        "    'Lengua': [7, 9, 8, 6, 8, 7, 6, 7],\n",
        "    'Ciencias': [6, 8, 7, 5, 6, 8, 4, 6]\n",
        "}\n",
        "\n",
        "# Crear el DataFrame\n",
        "df = pd.DataFrame(data)\n",
        "\n",
        "# Guardar el DataFrame en un archivo CSV\n",
        "df.to_csv('estudiantes.csv', index=False) #se genera en la raiz del colab\n",
        "print(\"Archivo 'estudiantes.csv' generado exitosamente.\")\n"
      ],
      "metadata": {
        "colab": {
          "base_uri": "https://localhost:8080/"
        },
        "id": "oqwhIealg37O",
        "outputId": "eaa133b4-3599-460c-dc88-5a2bf14592d8"
      },
      "execution_count": null,
      "outputs": [
        {
          "output_type": "stream",
          "name": "stdout",
          "text": [
            "Archivo 'estudiantes.csv' generado exitosamente.\n"
          ]
        }
      ]
    },
    {
      "cell_type": "markdown",
      "source": [
        "**Leer el archivo CSV y mostrar los primeros 5 registros.**\n",
        "\n",
        "Ejercicio: Lee el archivo estudiantes.csv y muestra las primeras 5 filas del DataFrame."
      ],
      "metadata": {
        "id": "hAzamljFg3h7"
      }
    },
    {
      "cell_type": "code",
      "source": [
        "import pandas as pd\n",
        "\n",
        "# Leer el archivo CSV\n",
        "df = pd.read_csv('/content/estudiantes.csv')\n",
        "\n",
        "# Mostrar las primeras 5 filas\n",
        "print(df.head())\n"
      ],
      "metadata": {
        "colab": {
          "base_uri": "https://localhost:8080/"
        },
        "id": "WryXYOgDhEwM",
        "outputId": "0001a0ae-bbab-433f-e003-cfb7d8d79392"
      },
      "execution_count": null,
      "outputs": [
        {
          "output_type": "stream",
          "name": "stdout",
          "text": [
            "  Estudiante Curso  Matemáticas  Lengua  Ciencias\n",
            "0       Juan     A            8       7         6\n",
            "1      María     A            9       9         8\n",
            "2      Pedro     B            6       8         7\n",
            "3        Ana     B            7       6         5\n",
            "4       Luis     A            8       8         6\n"
          ]
        }
      ]
    },
    {
      "cell_type": "markdown",
      "source": [
        "**Filtrar estudiantes con notas mayores o iguales a 8 en todas las asignaturas.**\n",
        "\n",
        "Ejercicio: Filtra los estudiantes que tengan una nota mayor o igual a 8 en todas las asignaturas (Matemáticas, Lengua y Ciencias)."
      ],
      "metadata": {
        "id": "HrkYX22PkPDf"
      }
    },
    {
      "cell_type": "code",
      "source": [
        "# Filtrar estudiantes con notas >= 8 en todas las asignaturas\n",
        "df_buenos = df[(df['Matemáticas'] >= 8) & (df['Lengua'] >= 8) & (df['Ciencias'] >= 8)]\n",
        "print(df_buenos)"
      ],
      "metadata": {
        "colab": {
          "base_uri": "https://localhost:8080/"
        },
        "id": "aqQPzfDSkOuN",
        "outputId": "05f39dcf-b274-4184-9b20-ec91e72e2d99"
      },
      "execution_count": null,
      "outputs": [
        {
          "output_type": "stream",
          "name": "stdout",
          "text": [
            "  Estudiante Curso  Matemáticas  Lengua  Ciencias\n",
            "1      María     A            9       9         8\n"
          ]
        }
      ]
    },
    {
      "cell_type": "markdown",
      "source": [
        "**Calcular el promedio de cada estudiante.**\n",
        "\n",
        "Ejercicio: Añadir una nueva columna Promedio que sea el promedio de las tres asignaturas para cada estudiante, muestra el promedio a dos digitos."
      ],
      "metadata": {
        "id": "W3ENehnRl-C6"
      }
    },
    {
      "cell_type": "code",
      "source": [
        "# Calcular el promedio por estudiante\n",
        "df['Promedio'] = df[['Matemáticas', 'Lengua', 'Ciencias']].mean(axis=1)\n",
        "\n",
        "# Redondear la columna \"Promedio\" a 2 decimales\n",
        "df['Promedio'] = df['Promedio'].round(2)\n",
        "\n",
        "# Mostrar el DataFrame con el nuevo promedio\n",
        "print(df[['Estudiante', 'Promedio']])\n"
      ],
      "metadata": {
        "colab": {
          "base_uri": "https://localhost:8080/"
        },
        "id": "CW0S3jjLmA0x",
        "outputId": "e646445d-7614-4500-8145-7b7fec4f2117"
      },
      "execution_count": null,
      "outputs": [
        {
          "output_type": "stream",
          "name": "stdout",
          "text": [
            "  Estudiante  Promedio\n",
            "0       Juan      7.00\n",
            "1      María      8.67\n",
            "2      Pedro      7.00\n",
            "3        Ana      6.00\n",
            "4       Luis      7.33\n",
            "5      Sofía      8.00\n",
            "6     Carlos      5.00\n",
            "7      Elena      6.33\n"
          ]
        }
      ]
    },
    {
      "cell_type": "markdown",
      "source": [
        "**Obtener el estudiante con el promedio más alto.**\n",
        "\n",
        "Ejercicio: Encuentra el estudiante con el promedio más alto y muestra su nombre y su promedio."
      ],
      "metadata": {
        "id": "yQ_6jARkmWc6"
      }
    },
    {
      "cell_type": "code",
      "source": [
        "# Estudiante con el promedio más alto\n",
        "mejor_estudiante = df.loc[df['Promedio'].idxmax()]\n",
        "\n",
        "# Mostrar el resultado\n",
        "print(f\"El estudiante con el promedio más alto es {mejor_estudiante['Estudiante']} con un promedio de {mejor_estudiante['Promedio']:.2f}.\")\n"
      ],
      "metadata": {
        "colab": {
          "base_uri": "https://localhost:8080/"
        },
        "id": "faPeE3LVmZm8",
        "outputId": "af656ae2-7dfa-4af5-b420-b9d2a9051234"
      },
      "execution_count": null,
      "outputs": [
        {
          "output_type": "stream",
          "name": "stdout",
          "text": [
            "El estudiante con el promedio más alto es María con un promedio de 8.67.\n"
          ]
        }
      ]
    },
    {
      "cell_type": "markdown",
      "source": [
        "**Agrupar los estudiantes por curso y calcular el promedio por curso.**\n",
        "\n",
        "Ejercicio: Agrupa a los estudiantes por su curso y calcula el promedio de las asignaturas para cada curso."
      ],
      "metadata": {
        "id": "vD3-xTlTmdxv"
      }
    },
    {
      "cell_type": "code",
      "source": [
        "\n",
        "# Asegurarnos de que las columnas de notas son numéricas (si hay algún error en el tipo de dato, convertimos a numérico)\n",
        "df[['Matemáticas', 'Lengua', 'Ciencias']] = df[['Matemáticas', 'Lengua', 'Ciencias']].apply(pd.to_numeric, errors='coerce')\n",
        "\n",
        "# Agrupar por 'Curso' y calcular el promedio por asignatura\n",
        "promedios_curso = df.groupby('Curso')[['Matemáticas', 'Lengua', 'Ciencias']].mean()\n",
        "\n",
        "# Mostrar los promedios por curso\n",
        "print(promedios_curso)\n",
        "\n"
      ],
      "metadata": {
        "colab": {
          "base_uri": "https://localhost:8080/"
        },
        "id": "vE9nr0pQmdVB",
        "outputId": "09556dd4-abef-4d8b-ff0e-95c482d688c5"
      },
      "execution_count": null,
      "outputs": [
        {
          "output_type": "stream",
          "name": "stdout",
          "text": [
            "       Matemáticas  Lengua  Ciencias\n",
            "Curso                               \n",
            "A              8.5    7.75       7.0\n",
            "B              6.0    6.75       5.5\n"
          ]
        }
      ]
    },
    {
      "cell_type": "markdown",
      "source": [
        "**Ordenar a los estudiantes por su promedio de mayor a menor.**\n",
        "\n",
        "Ejercicio: Ordena los estudiantes por su promedio de mayor a menor."
      ],
      "metadata": {
        "id": "vJ6GwNhLmypm"
      }
    },
    {
      "cell_type": "code",
      "source": [
        "# Ordenar el DataFrame por el promedio de mayor a menor\n",
        "df_ordenado = df.sort_values(by='Promedio', ascending=False)\n",
        "\n",
        "# Mostrar el DataFrame ordenado\n",
        "print(df_ordenado[['Estudiante', 'Promedio']])\n"
      ],
      "metadata": {
        "colab": {
          "base_uri": "https://localhost:8080/"
        },
        "id": "VMFDyTE7m4ex",
        "outputId": "9faf5688-596f-4bc5-969e-5165153bd762"
      },
      "execution_count": null,
      "outputs": [
        {
          "output_type": "stream",
          "name": "stdout",
          "text": [
            "  Estudiante  Promedio\n",
            "1      María      8.67\n",
            "5      Sofía      8.00\n",
            "4       Luis      7.33\n",
            "0       Juan      7.00\n",
            "2      Pedro      7.00\n",
            "7      Elena      6.33\n",
            "3        Ana      6.00\n",
            "6     Carlos      5.00\n"
          ]
        }
      ]
    },
    {
      "cell_type": "markdown",
      "source": [
        "**Contar cuántos estudiantes hay por cada curso.**\n",
        "\n",
        "Ejercicio: Cuenta cuántos estudiantes hay en cada curso."
      ],
      "metadata": {
        "id": "j9CNsMQ0m8NG"
      }
    },
    {
      "cell_type": "code",
      "source": [
        "# Contar el número de estudiantes por curso\n",
        "conteo_cursos = df['Curso'].value_counts()\n",
        "\n",
        "# Mostrar el conteo por curso\n",
        "print(conteo_cursos)\n"
      ],
      "metadata": {
        "colab": {
          "base_uri": "https://localhost:8080/"
        },
        "id": "iAqY8U_Ym_rs",
        "outputId": "8b381afe-3580-402e-b333-be298e826264"
      },
      "execution_count": null,
      "outputs": [
        {
          "output_type": "stream",
          "name": "stdout",
          "text": [
            "Curso\n",
            "A    4\n",
            "B    4\n",
            "Name: count, dtype: int64\n"
          ]
        }
      ]
    },
    {
      "cell_type": "markdown",
      "source": [
        "**Encontrar estudiantes con alguna asignatura reprobada (nota menor a 5).**\n",
        "\n",
        "Ejercicio: Filtra los estudiantes que tengan al menos una asignatura con una nota menor a 5."
      ],
      "metadata": {
        "id": "i3eKmM_rnCN9"
      }
    },
    {
      "cell_type": "code",
      "source": [
        "# Filtrar estudiantes con alguna asignatura reprobada\n",
        "estudiantes_reprobados = df[(df['Matemáticas'] < 5) | (df['Lengua'] < 5) | (df['Ciencias'] < 5)]\n",
        "\n",
        "# Mostrar los estudiantes reprobados\n",
        "print(estudiantes_reprobados[['Estudiante', 'Matemáticas', 'Lengua', 'Ciencias']])\n"
      ],
      "metadata": {
        "colab": {
          "base_uri": "https://localhost:8080/"
        },
        "id": "E8saViOGnH0-",
        "outputId": "64f42586-100f-406a-8523-92622dd55f0c"
      },
      "execution_count": null,
      "outputs": [
        {
          "output_type": "stream",
          "name": "stdout",
          "text": [
            "  Estudiante  Matemáticas  Lengua  Ciencias\n",
            "6     Carlos            5       6         4\n"
          ]
        }
      ]
    },
    {
      "cell_type": "markdown",
      "source": [
        "**Guardar un nuevo archivo CSV con los estudiantes que tienen un promedio mayor a 7.**\n",
        "\n",
        "Ejercicio: Filtra los estudiantes que tienen un promedio mayor a 7 y guarda ese nuevo DataFrame en un archivo CSV llamado estudiantes_promedio_alto.csv."
      ],
      "metadata": {
        "id": "VIwsjVSHnPF3"
      }
    },
    {
      "cell_type": "code",
      "source": [
        "# Filtrar estudiantes con promedio mayor a 7\n",
        "df_promedio_alto = df[df['Promedio'] > 7]\n",
        "\n",
        "# Guardar en un nuevo archivo CSV\n",
        "df_promedio_alto.to_csv('estudiantes_promedio_alto.csv', index=False)\n",
        "\n",
        "print(\"Archivo 'estudiantes_promedio_alto.csv' generado exitosamente.\")\n"
      ],
      "metadata": {
        "colab": {
          "base_uri": "https://localhost:8080/"
        },
        "id": "T0hVq4cTnOrG",
        "outputId": "6330210c-05d3-4942-98d5-a72db1f3a6ab"
      },
      "execution_count": null,
      "outputs": [
        {
          "output_type": "stream",
          "name": "stdout",
          "text": [
            "Archivo 'estudiantes_promedio_alto.csv' generado exitosamente.\n"
          ]
        }
      ]
    }
  ]
}
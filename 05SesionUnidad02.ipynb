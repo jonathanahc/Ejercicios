{
  "nbformat": 4,
  "nbformat_minor": 0,
  "metadata": {
    "colab": {
      "provenance": []
    },
    "kernelspec": {
      "name": "python3",
      "display_name": "Python 3"
    },
    "language_info": {
      "name": "python"
    }
  },
  "cells": [
    {
      "cell_type": "markdown",
      "source": [
        "# Limpieza y Transformación de Datos Categóricos\n",
        "\n",
        "* Tema: Limpieza y Transformación de los Datos (Data Wrangling)\n",
        "* Unidad 02: Análisis Descriptivo de los Datos\n",
        "* Materia: Programación para Analítica Descriptiva y Predictiva\n",
        "\n",
        "**Objetivo**: En esta clase aprenderemos a limpiar y transformar datos categóricos para garantizar su calidad, coherencia y utilidad en análisis descriptivos y predictivos. Exploraremos cómo identificar y corregir valores inconsistentes,  reducir la cardinalidad y codificar variables categóricas para su uso en modelos de análisis y aprendizaje automático. Al finalizar, seremos capaces de preparar datos categóricos de manera eficiente, evitando errores y mejorando la precisión de nuestros análisis."
      ],
      "metadata": {
        "id": "GDTPEEJY0ixn"
      }
    },
    {
      "cell_type": "markdown",
      "source": [
        "## Introducción\n",
        "\n",
        "n el contexto de data wrangling para análisis descriptivo y predictivo, el proceso de corrección de datos categóricos se conoce generalmente como \"limpieza y transformación de datos categóricos\". Algunos de los subprocesos clave dentro de este enfoque incluyen:\n",
        "\n",
        "1. Corrección de valores inconsistentes o errores tipográficos: 1) Normalización de valores: Convertir variaciones de un mismo concepto en una forma estándar (ejemplo: \"M\", \"Male\", \"Masculino\" → \"Masculino\").\n",
        "\n",
        "2. Manejo de valores faltantes en datos categóricos.\n",
        "\n",
        "3. Reducción de cardinalidad: Para variables categóricas con muchas clases, se pueden agrupar categorías de baja frecuencia en una nueva categoría como \"Otros\".\n",
        "4. Codificación de variables categóricas\n",
        "5. Detección de valores atípicos en datos categóricos\n"
      ],
      "metadata": {
        "id": "gQBeBHpI1U4k"
      }
    },
    {
      "cell_type": "markdown",
      "source": [
        "## Errores Tipográficos y Valores Inconsistentes\n",
        "\n",
        "*Errores Tipográficos.*\n",
        "\n",
        "Estos errores ocurren cuando hay fallas de escritura o digitación al ingresar los datos.\n",
        "\n",
        "- \"Bogta\" → \"Bogotá\" (Error tipográfico: falta una \"o\").\n",
        "- \"cdmx\" → \"CDMX\" (Mayúsculas/minúsculas inconsistentes).\n",
        "- \"Medelln\" → \"Medellín\" (Falta tilde).\n",
        "- \"M\" → \"Masculino\" (Abreviatura inconsistente).\n",
        "- \"fem\" → \"Femenino\" (Forma incorrecta o abreviada).\n",
        "- \"M.\" → \"Masculino\" (Error de puntuación extra).\n",
        "\n",
        "*Valores Inconsistentes*\n",
        "\n",
        "Ocurren cuando los datos presentan variaciones semánticas que representan lo mismo pero de manera diferente.\n",
        "\n",
        "-\"Ing. Datos\", \"Ing Datos\" → \"Ingeniero de Datos\" (Variaciones en abreviatura).\n",
        "- \"Data Engineer\" → \"Ingeniero de Datos\" (Diferente idioma).\n",
        "- \"Ingeniero Datos\" → \"Ingeniero de Datos\" (Falta la preposición \"de\").\n",
        "- \"media\" y \"Media\" → Diferencia en capitalización.\n",
        "- \"ACT\" → \"Activo\" (Abreviatura inconsistente).\n",
        "- \"activo\" → \"Activo\" (Capitalización diferente).\n",
        "- \"Inactivo\" y \"INACTIVO\" → Diferencia en mayúsculas/minúsculas.\n"
      ],
      "metadata": {
        "id": "VE7JfruV1l6F"
      }
    },
    {
      "cell_type": "markdown",
      "source": [
        "### ¿Cómo detectar estos problemas?\n",
        "\n",
        "Para dectar usamos una función de pandas llamada `unique()`, la cual obtiene los valores únicos de una columna (`df[columna].unique()`).\n",
        "\n",
        "Para saber la frecuencia de cada valor único usamos `df[columna].value_counts()`\n",
        "\n",
        "Veamos un ejemplo sencillo"
      ],
      "metadata": {
        "id": "pn6KkWm_1tKe"
      }
    },
    {
      "cell_type": "code",
      "source": [
        "#Cargar la biblioteca\n",
        "import pandas as pd\n",
        "\n",
        "#Leemos el CSV cat_err01.csv\n",
        "df = pd.read_csv('drive/MyDrive/Unidad02/cat_err01.csv',index_col=0)\n",
        "\n",
        "print(df)\n",
        "\n",
        "#Imprimimos los valores únicos\n",
        "print(df['Ciudad'].unique())\n",
        "\n",
        "#Imprimimos los valores únicos y el número de veces que aparecen\n",
        "print(df['Ciudad'].value_counts())\n",
        "\n",
        "# Si todas las columnas son categóricas\n",
        "for col in df.columns:\n",
        "    print(f\"Valores únicos en {col}: {df[col].unique()}\")\n",
        "\n",
        "#Si todas las columnas son categóricas\n",
        "#Mostrar la frecuencia de los valores únicos\n",
        "for col in df.columns:\n",
        "    print(f\"Frecuencia de Valores únicos en {col}: {df[col].value_counts()}\")\n",
        "\n",
        "# Verificar valores únicos por columna categórica\n",
        "for col in ['Género', 'Ciudad']:\n",
        "    print(f\"Valores únicos en {col}: {df[col].unique()}\")\n",
        "\n",
        "# Verificar frecuencia de valores únicos por columna categórica\n",
        "for col in ['Género', 'Ciudad']:\n",
        "    print(f\"Valores únicos en {col}: {df[col].value_counts()}\")\n",
        "\n"
      ],
      "metadata": {
        "colab": {
          "base_uri": "https://localhost:8080/"
        },
        "id": "ynm9oA72lnkB",
        "outputId": "9b9b29c3-3c2c-4b38-c915-6fe851fecf16"
      },
      "execution_count": null,
      "outputs": [
        {
          "output_type": "stream",
          "name": "stdout",
          "text": [
            "   ID Nombre   Ciudad     Género               Cargo Satisfacción\n",
            "0   1   Juan     CDMX  Masculino  Ingeniero de Datos         Alta\n",
            "1   2    Ana    Bogta   Femenino          Ing. Datos     Muy Alta\n",
            "2   3  Pedro     cdmx          M       Data Engineer         ALTA\n",
            "3   4  María  Medelln        fem           Ing Datos        media\n",
            "4   5   Luis   Bogotá         M.     Ingeniero Datos        Media\n",
            "5   6   José     CDMX  Masculino                 CEO         baja\n",
            "['CDMX' 'Bogta' 'cdmx' 'Medelln' 'Bogotá']\n",
            "Ciudad\n",
            "CDMX       2\n",
            "Bogta      1\n",
            "cdmx       1\n",
            "Medelln    1\n",
            "Bogotá     1\n",
            "Name: count, dtype: int64\n",
            "Valores únicos en ID: [1 2 3 4 5 6]\n",
            "Valores únicos en Nombre: ['Juan' 'Ana' 'Pedro' 'María' 'Luis' 'José']\n",
            "Valores únicos en Ciudad: ['CDMX' 'Bogta' 'cdmx' 'Medelln' 'Bogotá']\n",
            "Valores únicos en Género: ['Masculino' 'Femenino' 'M' 'fem' 'M.']\n",
            "Valores únicos en Cargo: ['Ingeniero de Datos' 'Ing. Datos' 'Data Engineer' 'Ing Datos'\n",
            " 'Ingeniero Datos' 'CEO']\n",
            "Valores únicos en Satisfacción: ['Alta' 'Muy Alta' 'ALTA' 'media' 'Media' 'baja']\n",
            "Frecuencia de Valores únicos en ID: ID\n",
            "1    1\n",
            "2    1\n",
            "3    1\n",
            "4    1\n",
            "5    1\n",
            "6    1\n",
            "Name: count, dtype: int64\n",
            "Frecuencia de Valores únicos en Nombre: Nombre\n",
            "Juan     1\n",
            "Ana      1\n",
            "Pedro    1\n",
            "María    1\n",
            "Luis     1\n",
            "José     1\n",
            "Name: count, dtype: int64\n",
            "Frecuencia de Valores únicos en Ciudad: Ciudad\n",
            "CDMX       2\n",
            "Bogta      1\n",
            "cdmx       1\n",
            "Medelln    1\n",
            "Bogotá     1\n",
            "Name: count, dtype: int64\n",
            "Frecuencia de Valores únicos en Género: Género\n",
            "Masculino    2\n",
            "Femenino     1\n",
            "M            1\n",
            "fem          1\n",
            "M.           1\n",
            "Name: count, dtype: int64\n",
            "Frecuencia de Valores únicos en Cargo: Cargo\n",
            "Ingeniero de Datos    1\n",
            "Ing. Datos            1\n",
            "Data Engineer         1\n",
            "Ing Datos             1\n",
            "Ingeniero Datos       1\n",
            "CEO                   1\n",
            "Name: count, dtype: int64\n",
            "Frecuencia de Valores únicos en Satisfacción: Satisfacción\n",
            "Alta        1\n",
            "Muy Alta    1\n",
            "ALTA        1\n",
            "media       1\n",
            "Media       1\n",
            "baja        1\n",
            "Name: count, dtype: int64\n",
            "Valores únicos en Género: ['Masculino' 'Femenino' 'M' 'fem' 'M.']\n",
            "Valores únicos en Ciudad: ['CDMX' 'Bogta' 'cdmx' 'Medelln' 'Bogotá']\n",
            "Valores únicos en Género: Género\n",
            "Masculino    2\n",
            "Femenino     1\n",
            "M            1\n",
            "fem          1\n",
            "M.           1\n",
            "Name: count, dtype: int64\n",
            "Valores únicos en Ciudad: Ciudad\n",
            "CDMX       2\n",
            "Bogta      1\n",
            "cdmx       1\n",
            "Medelln    1\n",
            "Bogotá     1\n",
            "Name: count, dtype: int64\n"
          ]
        }
      ]
    },
    {
      "cell_type": "markdown",
      "source": [
        "### ¿Cómo corregir estos problemas?\n",
        "\n",
        "Para corregir errores comunes como diferencias en capitalización y errores de escritura, usamos replace() y str.lower().\n",
        "\n",
        "Veamos un ejemplo sin expresiones regulares"
      ],
      "metadata": {
        "id": "XAq9qV3VsYVd"
      }
    },
    {
      "cell_type": "code",
      "source": [
        "#Leemos el CSV cat_err01.csv\n",
        "df = pd.read_csv('drive/MyDrive/Unidad02/cat_err01.csv',index_col=0)\n",
        "\n",
        "print(df)\n",
        "\n",
        "#Imprimos la frecuencia antes de la correción\n",
        "print(df['Género'].value_counts())\n",
        "\n",
        "df['Género'] = df['Género'].replace({'M':'Masculino','fem':'Femenino','M.':'Masculino'})\n",
        "\n",
        "#Imprimimos la frecuencia después de la correción\n",
        "print(df['Género'].value_counts())"
      ],
      "metadata": {
        "colab": {
          "base_uri": "https://localhost:8080/"
        },
        "id": "OQjAm2Qvt7X3",
        "outputId": "619cf7a5-1c13-40c1-d8aa-a917bc6c2ea6"
      },
      "execution_count": null,
      "outputs": [
        {
          "output_type": "stream",
          "name": "stdout",
          "text": [
            "   ID Nombre   Ciudad     Género               Cargo Satisfacción\n",
            "0   1   Juan     CDMX  Masculino  Ingeniero de Datos         Alta\n",
            "1   2    Ana    Bogta   Femenino          Ing. Datos     Muy Alta\n",
            "2   3  Pedro     cdmx          M       Data Engineer         ALTA\n",
            "3   4  María  Medelln        fem           Ing Datos        media\n",
            "4   5   Luis   Bogotá         M.     Ingeniero Datos        Media\n",
            "5   6   José     CDMX  Masculino                 CEO         baja\n",
            "Género\n",
            "Masculino    2\n",
            "Femenino     1\n",
            "M            1\n",
            "fem          1\n",
            "M.           1\n",
            "Name: count, dtype: int64\n",
            "Género\n",
            "Masculino    4\n",
            "Femenino     2\n",
            "Name: count, dtype: int64\n"
          ]
        }
      ]
    },
    {
      "cell_type": "code",
      "source": [
        "#Leemos el CSV cat_err01.csv\n",
        "df = pd.read_csv('drive/MyDrive/Unidad02/cat_err01.csv',index_col=0)\n",
        "\n",
        "print(df['Género'])\n",
        "\n",
        "#Imprimos la frecuencia antes de la correción\n",
        "print(df['Género'].value_counts())\n",
        "\n",
        "#Si escribimos solo M sin \\b, sustituirá dicha letra por Masculino,\n",
        "#esto puede afectar a Mujer y escribir como Masculinoujer\n",
        "#df['Género'] = df['Género'].replace({r'M\\.?': 'Masculino'}, regex=True)\n",
        "\n",
        "#usamos una expresión regular para corregir M o M.\n",
        "#delimitar un caracter o palabra \\b signfica que solo cambiará si aparece al principio\n",
        "df['Género'] = df['Género'].replace({r'^\\s*M\\.?\\s*$': 'Masculino'}, regex=True)\n",
        "\n",
        "print(\"Después de la modificación\")\n",
        "print(df['Género'])\n",
        "#Imprimos la frecuencia después de la correción\n",
        "print(df['Género'].value_counts())\n"
      ],
      "metadata": {
        "colab": {
          "base_uri": "https://localhost:8080/"
        },
        "id": "9r8Tgib_yIpB",
        "outputId": "233be704-94ac-423f-841a-c1e7aaf61a73"
      },
      "execution_count": null,
      "outputs": [
        {
          "output_type": "stream",
          "name": "stdout",
          "text": [
            "0    Masculino\n",
            "1     Femenino\n",
            "2            M\n",
            "3          fem\n",
            "4           M.\n",
            "5    Masculino\n",
            "Name: Género, dtype: object\n",
            "Género\n",
            "Masculino    2\n",
            "Femenino     1\n",
            "M            1\n",
            "fem          1\n",
            "M.           1\n",
            "Name: count, dtype: int64\n",
            "Después de la modificación\n",
            "0    Masculino\n",
            "1     Femenino\n",
            "2    Masculino\n",
            "3          fem\n",
            "4    Masculino\n",
            "5    Masculino\n",
            "Name: Género, dtype: object\n",
            "Género\n",
            "Masculino    4\n",
            "Femenino     1\n",
            "fem          1\n",
            "Name: count, dtype: int64\n"
          ]
        }
      ]
    },
    {
      "cell_type": "markdown",
      "source": [
        "Combinar soluciones: str.lower() + replace()\n",
        "\n",
        "En la columna Satisfacción los valores son inconsistentes. Podemos cambiar primero a mnúscula y luego corregir.\n",
        "\n",
        "En el siguiente ejemplo al convertir primero a minúsculas se resuelven los problemas de ALTA y Media"
      ],
      "metadata": {
        "id": "UjIWWE11Db-g"
      }
    },
    {
      "cell_type": "code",
      "source": [
        "#Leemos el CSV cat_err01.csv\n",
        "df = pd.read_csv('drive/MyDrive/Unidad02/cat_err01.csv',index_col=0)\n",
        "\n",
        "print(df['Satisfacción'])\n",
        "\n",
        "#Imprimos la frecuencia antes de la correción\n",
        "print(df['Satisfacción'].value_counts())\n",
        "\n",
        "df['Satisfacción'] = df['Satisfacción'].str.lower().replace({'muy alta': 'alta'})\n",
        "\n",
        "#Imprimos la frecuencia antes de la correción\n",
        "print(df['Satisfacción'].value_counts())\n"
      ],
      "metadata": {
        "colab": {
          "base_uri": "https://localhost:8080/"
        },
        "id": "om32zvjuEKfw",
        "outputId": "05ec0351-cc4d-48eb-9300-054322f30eb6"
      },
      "execution_count": null,
      "outputs": [
        {
          "output_type": "stream",
          "name": "stdout",
          "text": [
            "0        Alta\n",
            "1    Muy Alta\n",
            "2        ALTA\n",
            "3       media\n",
            "4       Media\n",
            "5        baja\n",
            "Name: Satisfacción, dtype: object\n",
            "Satisfacción\n",
            "Alta        1\n",
            "Muy Alta    1\n",
            "ALTA        1\n",
            "media       1\n",
            "Media       1\n",
            "baja        1\n",
            "Name: count, dtype: int64\n",
            "Satisfacción\n",
            "alta     3\n",
            "media    2\n",
            "baja     1\n",
            "Name: count, dtype: int64\n"
          ]
        }
      ]
    },
    {
      "cell_type": "markdown",
      "source": [
        "## **Ejercicio de Práctica**\n",
        "\n",
        "Carga el archivo `cat_err02.csv` en un dataframe. Detecta y corrige los errores tipográficos y valores inconsistentes de las columnas Estado y Cargo."
      ],
      "metadata": {
        "id": "r9oJf98PGJIn"
      }
    },
    {
      "cell_type": "code",
      "source": [
        "#Realiza la práctica con cat_err02.csv"
      ],
      "metadata": {
        "id": "D08NFz75bBib"
      },
      "execution_count": null,
      "outputs": []
    },
    {
      "cell_type": "markdown",
      "source": [
        "## Baja Frecuencia en Categorías o Alta Cardinalidad\n",
        "\n",
        "Las características categóricas de alta cardinalidad son aquellas que tienen una gran cantidad de valores únicos, como identificadores de productos, códigos postales o nombres. Estas características pueden plantear desafíos para la codificación de datos, ya que pueden crear una gran cantidad de variables ficticias, aumentar el uso de memoria y reducir el rendimiento del modelo. Por lo tanto, a menudo es necesario reducir la cardinalidad de estas características, agrupándolas en menos categorías, en función de algún criterio o lógica.\n",
        "\n",
        "![image.png](data:image/png;base64,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)\n",
        "\n",
        "\n",
        "Carga el conjunto de datos `employee_salaries.csv`e imprime la frecuencia de los valores únicos de la columna `deparment_name`.\n",
        "\n",
        "\n",
        "Problemas de la Alta Cardinalidad:Efectos negativos de muchas categorías en modelos de datos:\n",
        "\n",
        "* Aumento del número de variables cuando se usa One-Hot Encoding.\n",
        "* Pérdida de eficiencia en cálculos y almacenamiento.\n",
        "* Problemas de sobreajuste si los modelos aprenden patrones irrelevantes.\n",
        "* Dificultad en la interpretación cuando hay demasiadas categorías poco representadas."
      ],
      "metadata": {
        "id": "sUSlRvYRHnjK"
      }
    },
    {
      "cell_type": "code",
      "source": [
        "#Carga el conjunto de datos employee_salaries.csv\n",
        "\n",
        "\n",
        "#imprime la frecuencia de los valores únicos"
      ],
      "metadata": {
        "id": "osK4UQ4KS6ML"
      },
      "execution_count": null,
      "outputs": []
    },
    {
      "cell_type": "markdown",
      "source": [
        "### Identificar la Alta Cardinalidad\n",
        "\n",
        "Para determinar si una variable categórica tiene alta cardinalidad, podemos analizar cuántos valores únicos contiene en comparación con el número total de registros.\n",
        "\n",
        "Métodos para identificarla:\n",
        "* Cálculo del número de categorías únicas:\n",
        "\"Si una columna tiene casi tantos valores únicos como filas en el dataset, es probable que tenga alta cardinalidad.\n",
        "\n",
        "Para ello usaremos `df.shape` y `nunique()`, donde este último método se usa para contar el número de valores únicos en una columna o en todo un DataFrame.\n",
        "\n",
        "* Frecuencia de categorías:\n",
        "\"Podemos revisar si algunas categorías aparecen muy pocas veces, lo que indica que la variable podría necesitar agrupación o transformación.\"\n",
        "\n",
        "* Análisis de proporción:\n",
        "\"Si más del 90% de los valores únicos aparecen en menos del 1% de los datos, hay una distribución altamente desbalanceada que puede afectar el modelo.\""
      ],
      "metadata": {
        "id": "sTLt7TtBgrj0"
      }
    },
    {
      "cell_type": "code",
      "source": [
        "import pandas as pd\n",
        "\n",
        "# Crear un DataFrame con una columna de alta cardinalidad\n",
        "df = pd.DataFrame({\n",
        "    'ID_Cliente': [f'Cliente_{i}' for i in range(1, 101)],  # 100 valores únicos\n",
        "    'Compras': [i * 10 for i in range(1, 101)]\n",
        "})\n",
        "\n",
        "# Contar valores únicos en la columna 'ID_Cliente'\n",
        "num_unicos = df['ID_Cliente'].nunique()\n",
        "total_filas = len(df)\n",
        "\n",
        "# Determinar si hay alta cardinalidad\n",
        "print(f\"Valores únicos en 'ID_Cliente': {num_unicos}\")\n",
        "print(f\"Total de filas en el dataset: {total_filas}\")\n",
        "print(f\"Porcentaje de valores únicos: {num_unicos / total_filas:.2%}\")\n",
        "\n",
        "if num_unicos / total_filas > 0.5:  # Umbral del 50%\n",
        "    print(\"⚠️ La columna 'ID_Cliente' tiene alta cardinalidad.\")\n",
        "else:\n",
        "    print(\"✅ La columna 'ID_Cliente' tiene cardinalidad manejable.\")\n"
      ],
      "metadata": {
        "colab": {
          "base_uri": "https://localhost:8080/"
        },
        "id": "JV444UEUhb-h",
        "outputId": "972bd188-aa55-4c35-97da-800aed769e8f"
      },
      "execution_count": null,
      "outputs": [
        {
          "output_type": "stream",
          "name": "stdout",
          "text": [
            "Valores únicos en 'ID_Cliente': 100\n",
            "Total de filas en el dataset: 100\n",
            "Porcentaje de valores únicos: 100.00%\n",
            "⚠️ La columna 'ID_Cliente' tiene alta cardinalidad.\n"
          ]
        }
      ]
    },
    {
      "cell_type": "markdown",
      "source": [
        "Vamos a trabajar con el conjunto de datos cat_err03.csv.\n",
        "\n",
        "Agrupar categorías poco frecuentes en \"Otros\""
      ],
      "metadata": {
        "id": "o-rltvkcfotv"
      }
    },
    {
      "cell_type": "code",
      "source": [
        "import pandas as pd\n",
        "\n",
        "# Carga el conjunto de datos cat_err03.csv\n",
        "df = pd.read_csv('drive/MyDrive/Unidad02/cat_err03.csv', index_col=0)\n",
        "\n",
        "print(df.head())\n",
        "\n",
        "print(df['Producto'].value_counts())\n",
        "\n",
        "umbral = 2\n",
        "conteo_productos = df['Producto'].value_counts()\n",
        "categorias_poco_frecuentes = conteo_productos[conteo_productos < umbral].index\n",
        "df['Producto_Agrupado'] = df['Producto'].replace(categorias_poco_frecuentes, 'Otros')\n",
        "\n",
        "print(df['Producto_Agrupado'].value_counts())\n"
      ],
      "metadata": {
        "colab": {
          "base_uri": "https://localhost:8080/"
        },
        "id": "crCHtAitf0km",
        "outputId": "f446afd9-e53a-4cf9-dc83-4990c1bb74ee"
      },
      "execution_count": null,
      "outputs": [
        {
          "output_type": "stream",
          "name": "stdout",
          "text": [
            "     Producto\n",
            "0      Laptop\n",
            "1     Celular\n",
            "2      Tablet\n",
            "3  Smartwatch\n",
            "4      Laptop\n",
            "Producto\n",
            "Celular        3\n",
            "Cámara         3\n",
            "Laptop         2\n",
            "Tablet         2\n",
            "Smartwatch     1\n",
            "Teclado        1\n",
            "Mouse          1\n",
            "Monitor        1\n",
            "Impresora      1\n",
            "Router         1\n",
            "Auriculares    1\n",
            "Proyector      1\n",
            "Name: count, dtype: int64\n",
            "Producto_Agrupado\n",
            "Otros      8\n",
            "Celular    3\n",
            "Cámara     3\n",
            "Laptop     2\n",
            "Tablet     2\n",
            "Name: count, dtype: int64\n"
          ]
        }
      ]
    },
    {
      "cell_type": "code",
      "source": [
        "df['Categoría'] = df['Producto'].replace({\n",
        "    'Laptop': 'Computación', 'Celular': 'Telefonía', 'Tablet': 'Computación',\n",
        "    'Smartwatch': 'Accesorios', 'Teclado': 'Periféricos', 'Mouse': 'Periféricos',\n",
        "    'Monitor': 'Periféricos', 'Impresora': 'Periféricos', 'Router': 'Redes',\n",
        "    'Auriculares': 'Accesorios', 'Cámara': 'Fotografía', 'Proyector': 'Oficina'\n",
        "})\n",
        "\n",
        "print(df['Categoría'].value_counts())"
      ],
      "metadata": {
        "colab": {
          "base_uri": "https://localhost:8080/"
        },
        "id": "9NSVb_nQgdAU",
        "outputId": "d57ba720-7448-4895-d517-12d47e334092"
      },
      "execution_count": null,
      "outputs": [
        {
          "output_type": "stream",
          "name": "stdout",
          "text": [
            "Categoría\n",
            "Computación    4\n",
            "Periféricos    4\n",
            "Telefonía      3\n",
            "Fotografía     3\n",
            "Accesorios     2\n",
            "Redes          1\n",
            "Oficina        1\n",
            "Name: count, dtype: int64\n"
          ]
        }
      ]
    },
    {
      "cell_type": "code",
      "source": [
        "frecuencia = df['Producto'].value_counts()\n",
        "df['Producto_Frecuencia'] = df['Producto'].map(frecuencia)\n",
        "\n",
        "print(df['Producto_Frecuencia'].value_counts())"
      ],
      "metadata": {
        "colab": {
          "base_uri": "https://localhost:8080/"
        },
        "id": "j6kUz-j9hPS2",
        "outputId": "cbe68354-8671-4c1b-cb16-af08a765681b"
      },
      "execution_count": null,
      "outputs": [
        {
          "output_type": "stream",
          "name": "stdout",
          "text": [
            "Producto_Frecuencia\n",
            "1    8\n",
            "3    6\n",
            "2    4\n",
            "Name: count, dtype: int64\n"
          ]
        }
      ]
    },
    {
      "cell_type": "markdown",
      "source": [
        "## Tipo de Datos Incorrecto\n",
        "\n"
      ],
      "metadata": {
        "id": "dBD1CITlLa2-"
      }
    },
    {
      "cell_type": "code",
      "source": [
        "#Leemos el CSV cat_err01.\n",
        "import pandas as pd\n",
        "df = pd.read_csv('drive/MyDrive/Unidad02/cat_err01.csv',index_col=0)\n",
        "\n",
        "#print(df)\n",
        "\n",
        "#Imprimos la frecuencia antes de la correción\n",
        "#print(df['Género'].value_counts())\n",
        "\n",
        "df['Ciudad'] = df['Ciudad'].replace({'Bogta':'Bogotá','cdmx':'CDMX','Medelln':'Medellín'})\n",
        "\n",
        "df['Género'] = df['Género'].replace({'M':'Masculino','fem':'Femenino','M.':'Masculino'})\n",
        "\n",
        "#Imprimimos la frecuencia después de la correción\n",
        "print(df['Género'].value_counts())\n",
        "\n",
        "#Imprimimos la frecuencia después de la correción\n",
        "print(df['Ciudad'].value_counts())\n",
        "\n",
        "#Para todas las columnas\n",
        "print(\"Tipo de Datos\")\n",
        "print(df.dtypes)\n",
        "#cantidad de bytes\n",
        "#print(df.memory_usage(deep=True))\n",
        "#print(f\"Memoria total en bytes: {df.memory_usage(deep=True).sum()}\")\n",
        "#print(df.shape)\n",
        "\n",
        "#Para determinadas columnas\n",
        "print(\"Cantidad de memoria para las columnas: Ciudad y Género\")\n",
        "print(df[['Ciudad','Género']].memory_usage(deep=True))\n",
        "print(f\"Memoria total en bytes: {df[['Ciudad','Género']].memory_usage(deep=True).sum()}\")\n",
        "\n",
        "\n",
        "df[\"Ciudad\"] = df[\"Ciudad\"].astype(\"category\")\n",
        "df[\"Género\"] = df[\"Género\"].astype(\"category\")\n",
        "\n",
        "print(\"Tipo de Datos\")\n",
        "print(df.dtypes)\n",
        "\n",
        "print(\"Cantidad de memoria para las columnas: Ciudad y Género\")\n",
        "print(df[['Ciudad','Género']].memory_usage(deep=True))\n",
        "print(f\"Memoria total en bytes: {df[['Ciudad','Género']].memory_usage(deep=True).sum()}\")\n",
        "\n"
      ],
      "metadata": {
        "colab": {
          "base_uri": "https://localhost:8080/"
        },
        "id": "-arsC4zXMmsH",
        "outputId": "a7809b9d-4f77-4ad1-a188-24694a308bc8"
      },
      "execution_count": null,
      "outputs": [
        {
          "output_type": "stream",
          "name": "stdout",
          "text": [
            "Género\n",
            "Masculino    4\n",
            "Femenino     2\n",
            "Name: count, dtype: int64\n",
            "Ciudad\n",
            "CDMX        3\n",
            "Bogotá      2\n",
            "Medellín    1\n",
            "Name: count, dtype: int64\n",
            "Tipo de Datos\n",
            "Nombre          object\n",
            "Ciudad          object\n",
            "Género          object\n",
            "Cargo           object\n",
            "Satisfacción    object\n",
            "dtype: object\n",
            "Cantidad de memoria para las columnas: Ciudad y Género\n",
            "Index      48\n",
            "Ciudad    446\n",
            "Género    394\n",
            "dtype: int64\n",
            "Memoria total en bytes: 888\n",
            "Tipo de Datos\n",
            "Nombre            object\n",
            "Ciudad          category\n",
            "Género          category\n",
            "Cargo             object\n",
            "Satisfacción      object\n",
            "dtype: object\n",
            "Cantidad de memoria para las columnas: Ciudad y Género\n",
            "Index      48\n",
            "Ciudad    369\n",
            "Género    245\n",
            "dtype: int64\n",
            "Memoria total en bytes: 662\n"
          ]
        }
      ]
    }
  ]
}
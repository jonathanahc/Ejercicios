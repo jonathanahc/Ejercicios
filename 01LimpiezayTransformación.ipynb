{
  "nbformat": 4,
  "nbformat_minor": 0,
  "metadata": {
    "colab": {
      "provenance": []
    },
    "kernelspec": {
      "name": "python3",
      "display_name": "Python 3"
    },
    "language_info": {
      "name": "python"
    }
  },
  "cells": [
    {
      "cell_type": "markdown",
      "source": [
        "# Unidad 02 - Sesión 01 Asíncrona - Semana 04: Limpieza y Transformación de Datos\n",
        "\n",
        "- **Materia:** Programación para Analítica Descriptiva y Predictiva\n",
        "- **Unidad 02:** Análisis Descriptivo\n",
        "- **Tema 02:** Limpieza y Transformación\n",
        "\n",
        "- **Objetivo:** Al finalizar esta clase, los estudiantes serán capaces de comprender y aplicar el proceso de Data Wrangling para preparar datos de manera efectiva antes de su análisis\n",
        "\n",
        "¡Recuerda que es importante conectar tu Colab y también el Drive!\n",
        "\n",
        "Para poder ejecutar este *notebook* es importante que hayas colocado los archivos de trabajo en `drive/MyDrive/Unidad02/`\n"
      ],
      "metadata": {
        "id": "B9NUsRR8X4CQ"
      }
    },
    {
      "cell_type": "markdown",
      "source": [
        "## **Normalización/Estandarización/Formateo de nombres de Columnas**\n",
        "\n",
        "Asegurar que todos los nombres sigan un formato uniforme (mayúsculas, minúsculas, sin espacios ni caracteres especiales). Algunas formas de hacer esto es siguiendo una convención establecida (snake_case, camelCase, PascalCase, etc.).\n",
        "\n",
        "Estos cambios no deberían alterar el sginificado de la columna."
      ],
      "metadata": {
        "id": "N-B5MaDQkVG0"
      }
    },
    {
      "cell_type": "markdown",
      "source": [
        "### 1.  Convertir todos los nombres a minúsculas o mayúsculas\n",
        "\n",
        " El siguiente código utiliza la librería Pandas para cargar un archivo CSV,modificar los nombres de las columnas y estandarizarlos en minúsculas y mayúsculas.\n",
        "\n",
        "Para ello, utilizaremos la función `df.columns.str.lower()` que convierte cada nombre de columna a minúsculas, y `df.columns.str.upper()` a mayúsculas. Si los nombres tienen espacios y caracteres especiales, estos siguen presentes."
      ],
      "metadata": {
        "id": "l91Nmx6mlGo6"
      }
    },
    {
      "cell_type": "code",
      "execution_count": null,
      "metadata": {
        "colab": {
          "base_uri": "https://localhost:8080/"
        },
        "id": "NXjoz-shXy6O",
        "outputId": "85d294d7-7b98-4850-bc8b-893e1990d4f1"
      },
      "outputs": [
        {
          "output_type": "stream",
          "name": "stdout",
          "text": [
            "Index(['Atributo 0', 'ATRIBUTO 1', 'Fecha Venta', 'VENTA TOTAL ($)',\n",
            "       'Nombre Cliente'],\n",
            "      dtype='object')\n",
            "Index(['atributo 0', 'atributo 1', 'fecha venta', 'venta total ($)',\n",
            "       'nombre cliente'],\n",
            "      dtype='object')\n"
          ]
        }
      ],
      "source": [
        "#Importamos la librería de pandas y asignamos un alias (pd)\n",
        "import pandas as pd\n",
        "\n",
        "# Leemos el archivo que contiene comas\n",
        "df = pd.read_csv(\"drive/MyDrive/Unidad02/ex01asin.csv\")\n",
        "\n",
        "#imprimimos el nombre de las columnas\n",
        "print(df.columns)\n",
        "\n",
        "#Convertimos los nombres de las columnas a minúsculas\n",
        "df.columns = df.columns.str.lower()\n",
        "\n",
        "#imprimimos el nombre de las columnas\n",
        "print(df.columns)"
      ]
    },
    {
      "cell_type": "code",
      "source": [
        "#Importamos la librería de pandas y asignamos un alias (pd)\n",
        "import pandas as pd\n",
        "\n",
        "# Leemos el archivo que contiene comas\n",
        "df = pd.read_csv(\"drive/MyDrive/Unidad02/ex01asin.csv\")\n",
        "\n",
        "#imprimimos el nombre de las columnas\n",
        "print(df.columns)\n",
        "\n",
        "#Convertimos los nombres de las columnas a mayúsculas\n",
        "df.columns = df.columns.str.upper()\n",
        "\n",
        "#imprimimos el nombre de las columnas\n",
        "print(df.columns)"
      ],
      "metadata": {
        "colab": {
          "base_uri": "https://localhost:8080/"
        },
        "id": "ifwi1UjCt5Mb",
        "outputId": "2d82b087-3982-4551-be3f-db93aa88d846"
      },
      "execution_count": null,
      "outputs": [
        {
          "output_type": "stream",
          "name": "stdout",
          "text": [
            "Index(['Atributo 0', 'ATRIBUTO 1', 'Fecha Venta', 'VENTA TOTAL ($)',\n",
            "       'Nombre Cliente'],\n",
            "      dtype='object')\n",
            "Index(['ATRIBUTO 0', 'ATRIBUTO 1', 'FECHA VENTA', 'VENTA TOTAL ($)',\n",
            "       'NOMBRE CLIENTE'],\n",
            "      dtype='object')\n"
          ]
        }
      ]
    },
    {
      "cell_type": "markdown",
      "source": [
        "### 2. Reemplazar espacios por guiones bajos (snake_case)\n",
        "\n",
        "El formato snake_case es una convención en la que los nombres de variables o columnas están en minúsculas y las palabras se separan con guiones bajos (_), en lugar de espacios o caracteres especiales.\n",
        "\n",
        "Usaremos `str.replace()`en conjunto con `df.columns.str.lower()` para convertir primero las columnas a minúsculas"
      ],
      "metadata": {
        "id": "ibDS4ZtZutDL"
      }
    },
    {
      "cell_type": "code",
      "source": [
        "#Importamos la librería de pandas y asignamos un alias (pd)\n",
        "import pandas as pd\n",
        "\n",
        "# Leemos el archivo que contiene comas\n",
        "df = pd.read_csv(\"drive/MyDrive/Unidad02/ex01asin.csv\")\n",
        "\n",
        "#imprimimos el nombre de las columnas\n",
        "print(df.columns)\n",
        "\n",
        "#Convertimos los nombres de las columnas a snake_case\n",
        "df.columns = df.columns.str.lower().str.replace(\" \", \"_\")\n",
        "\n",
        "#imprimimos el nombre de las columnas\n",
        "print(df.columns)"
      ],
      "metadata": {
        "colab": {
          "base_uri": "https://localhost:8080/"
        },
        "id": "pQmhci9rwhcc",
        "outputId": "64f5af3c-f8d6-410f-cbce-a652cc33c197"
      },
      "execution_count": null,
      "outputs": [
        {
          "output_type": "stream",
          "name": "stdout",
          "text": [
            "Index(['Atributo 0', 'ATRIBUTO 1', 'Fecha Venta', 'VENTA TOTAL ($)',\n",
            "       'Nombre Cliente'],\n",
            "      dtype='object')\n",
            "Index(['atributo_0', 'atributo_1', 'fecha_venta', 'venta_total_($)',\n",
            "       'nombre_cliente'],\n",
            "      dtype='object')\n"
          ]
        }
      ]
    },
    {
      "cell_type": "markdown",
      "source": [
        "Cuando las columnas tienen varios espacios al inicio, en medio y al final, el anterior código no funciona. Observa la salida que produce con nuevo archivo"
      ],
      "metadata": {
        "id": "VK-wVAV6zTEj"
      }
    },
    {
      "cell_type": "code",
      "source": [
        "#Importamos la librería de pandas y asignamos un alias (pd)\n",
        "import pandas as pd\n",
        "\n",
        "# Leemos el archivo que contiene comas\n",
        "df = pd.read_csv(\"drive/MyDrive/Unidad02/ex02asin.csv\")\n",
        "\n",
        "#imprimimos el nombre de las columnas\n",
        "print(df.columns)\n",
        "\n",
        "#Convertimos los nombres de las columnas a snake_case con varios espacios\n",
        "df.columns = df.columns.str.lower().str.replace(\" \", \"_\")\n",
        "\n",
        "#imprimimos el nombre de las columnas\n",
        "print(df.columns)"
      ],
      "metadata": {
        "colab": {
          "base_uri": "https://localhost:8080/"
        },
        "id": "iZkgy0UVyny-",
        "outputId": "e79e54a3-654f-40eb-a42b-5940e1f300e0"
      },
      "execution_count": null,
      "outputs": [
        {
          "output_type": "stream",
          "name": "stdout",
          "text": [
            "Index(['Atributo    0', '   ATRIBUTO     1', '    Fecha Venta  ',\n",
            "       '  VENTA TOTAL ($) ', ' Nombre     Cliente'],\n",
            "      dtype='object')\n",
            "Index(['atributo____0', '___atributo_____1', '____fecha_venta__',\n",
            "       '__venta_total_($)_', '_nombre_____cliente'],\n",
            "      dtype='object')\n"
          ]
        }
      ]
    },
    {
      "cell_type": "markdown",
      "source": [
        "Cuando los nombres de las columnas tienen múltiples espacios consecutivos, el método .str.replace(\" \", \"_\") solo reemplaza un espacio a la vez, lo que puede no ser suficiente en algunos casos.\n",
        "\n",
        "Para asegurarnos de que todos los espacios múltiples sean reemplazados por un solo _, usamos la expresión regular \\s+ con str.replace(). Asimismo, previamente, eliminamos espacios al inicio y final con str.strip().\n",
        "\n"
      ],
      "metadata": {
        "id": "lKHnNkAB0UI1"
      }
    },
    {
      "cell_type": "code",
      "source": [
        "import pandas as pd\n",
        "\n",
        "# Leemos el archivo que contiene comas\n",
        "df = pd.read_csv(\"drive/MyDrive/Unidad02/ex02asin.csv\")\n",
        "\n",
        "#imprimimos el nombre de las columnas\n",
        "print(df.columns)\n",
        "\n",
        "#Convertimos los nombres de las columnas a snake_case y usando expresiones regulares\n",
        "df.columns = df.columns.str.lower().str.strip().str.replace(r\"\\s+\", \"_\", regex=True)\n",
        "\n",
        "#imprimimos el nombre de las columnas\n",
        "print(df.columns)"
      ],
      "metadata": {
        "colab": {
          "base_uri": "https://localhost:8080/"
        },
        "id": "RrcU-sOY0dWZ",
        "outputId": "96fa2f1b-966b-4e7c-b168-1ac7ad8dee82"
      },
      "execution_count": null,
      "outputs": [
        {
          "output_type": "stream",
          "name": "stdout",
          "text": [
            "Index(['Atributo    0', '   ATRIBUTO     1', '    Fecha Venta  ',\n",
            "       '  VENTA TOTAL ($) ', ' Nombre     Cliente'],\n",
            "      dtype='object')\n",
            "Index(['atributo_0', 'atributo_1', 'fecha_venta', 'venta_total_($)',\n",
            "       'nombre_cliente'],\n",
            "      dtype='object')\n"
          ]
        }
      ]
    },
    {
      "cell_type": "markdown",
      "source": [
        "### Eliminar caracteres especiales\n",
        "Si los nombres de las columnas contienen caracteres especiales como ($, %, /, #, !, etc.), podemos eliminarlos utilizando expresiones regulares (regex) en Pandas.\n",
        "\n",
        "Para ello, usamos str.replace() con \\W+ que detecta  cualquier caracter que NO sea una letra, número o _.\n",
        "\n",
        "A continuación te muestro varios ejemplos en combinación con otras formas de normalización de nombres vistos anteriormente\n",
        "\n",
        "Minúsculas + Caracteres Especiales\n",
        "Mayúsculas + Caracteres Especiales\n",
        "snake_case+ Caracteres Especiales\n",
        "\n",
        "Para mostrar el resultado de cada una de ellas, quita el comentario a la instrucción y vuelve a ejecutar."
      ],
      "metadata": {
        "id": "rLC5z3-d9rmc"
      }
    },
    {
      "cell_type": "code",
      "source": [
        "import pandas as pd\n",
        "\n",
        "# Leemos el archivo que contiene comas\n",
        "df = pd.read_csv(\"drive/MyDrive/Unidad02/ex03asin.csv\")\n",
        "\n",
        "#imprimimos el nombre de las columnas\n",
        "print(df.columns)\n",
        "\n",
        "#Convertimos los nombres de las columna a minusculas y quitamos los caracteres especiales\n",
        "df.columns = df.columns.str.lower().str.replace(r\"\\W+\", \"\", regex=True)\n",
        "\n",
        "#Convertimos los nombres de las columna a minusculas y quitamos los caracteres especiales\n",
        "#df.columns = df.columns.str.upper().str.replace(r\"\\W+\", \"\", regex=True)\n",
        "\n",
        "#snak_case + caracteres especiaeles\n",
        "#df.columns = df.columns.str.lower().str.strip().str.replace(r\"\\s+\", \"_\", regex=True).str.replace(r\"\\W+\", \"\", regex=True)\n",
        "\n",
        "#imprimimos el nombre de las columnas\n",
        "print(df.columns)"
      ],
      "metadata": {
        "colab": {
          "base_uri": "https://localhost:8080/"
        },
        "id": "KXGukqYx3zmY",
        "outputId": "63e494bf-bd3d-4892-e721-7342a4d4a038"
      },
      "execution_count": null,
      "outputs": [
        {
          "output_type": "stream",
          "name": "stdout",
          "text": [
            "Index(['Atributo    #0', '   ATRIBUTO @    1', '    Fecha Venta  ',\n",
            "       '  VENTA TOTAL ($) ', ' [Nombre]     Cliente!!!'],\n",
            "      dtype='object')\n",
            "Index(['atributo0', 'atributo1', 'fechaventa', 'ventatotal', 'nombrecliente'], dtype='object')\n"
          ]
        }
      ]
    },
    {
      "cell_type": "markdown",
      "source": [
        "### Diccionario de Datos\n",
        "Un diccionario de datos es un documento o archivo que describe detalladamente las características de cada columna o variable en un conjunto de datos. Contiene información como el nombre de la variable, su descripción, tipo de dato, valores permitidos y otras reglas de validación.\n",
        "\n",
        "Un diccionario de datos es esencial para garantizar la comprensión, consistencia y calidad de los datos dentro de un análisis o sistema de información. Sus principales usos son:\n",
        "\n",
        "- Estandarización: Ayuda a mantener un formato uniforme de los nombres de columnas y sus valores.\n",
        "- Facilita la interpretación: Permite que cualquier persona que utilice el dataset entienda el significado de cada variable.\n",
        "- Mejora la calidad de los datos: Define reglas de validación para evitar errores y datos inconsistentes.\n",
        "- Optimiza la colaboración: Es útil cuando varias personas o equipos trabajan con los mismos datos.\n",
        "- Documentación para auditorías: Sirve como referencia para entender la evolución de los datos a lo largo del tiempo.\n",
        "\n",
        "\n",
        "*¿Cómo crear un diccionario de datos en Python?*\n",
        "\n",
        "Si tienes un DataFrame en Pandas, puedes generar un diccionario de datos automáticament"
      ],
      "metadata": {
        "id": "bdAHHiTSXcgk"
      }
    },
    {
      "cell_type": "code",
      "source": [
        "#Importamos la librería de pandas y asignamos un alias (pd)\n",
        "import pandas as pd\n",
        "\n",
        "# Leemos el archivo que contiene comas\n",
        "df = pd.read_csv(\"drive/MyDrive/Unidad02/ex01asin.csv\")\n",
        "\n",
        "#imprimimos el nombre de las columnas\n",
        "print(df.columns)\n",
        "\n",
        "#Convertimos los nombres de las columnas a snake_case\n",
        "df.columns = df.columns.str.lower().str.replace(\" \", \"_\")\n",
        "\n",
        "#imprimimos el nombre de las columnas\n",
        "print(df.columns)\n",
        "\n",
        "#Crea un nuevo DataFrame llamado diccionario_datos que almacena\n",
        "# la descripción de los nombres de las columnas y sus tipos de datos.\n",
        "#[str(df[col].dtype) for col in df.columns]:\n",
        "#Itera sobre cada columna (col) de df.\n",
        "#Obtiene su tipo de dato con df[col].dtype.\n",
        "#Convierte el tipo de dato a una cadena (str) para que pueda almacenarse en el nuevo DataFrame.\n",
        "diccionario_datos = pd.DataFrame({\"Nombre de columna\": df.columns,\n",
        "                                  \"Tipo de dato\": [str(df[col].dtype) for col in df.columns]})\n",
        "\n",
        "#Imprimimos el diccionario\n",
        "print(diccionario_datos)\n",
        "\n",
        "#guardamos el diccionario\n",
        "#index=False: Evita que Pandas guarde la columna de índices.\n",
        "#encoding=\"utf-8\": Asegura compatibilidad con caracteres especiales (acentos, ñ, etc.).\n",
        "diccionario_datos.to_csv(\"drive/MyDrive/Unidad02/diccionario_datos.csv\", index=False, encoding=\"utf-8\")\n",
        "\n"
      ],
      "metadata": {
        "colab": {
          "base_uri": "https://localhost:8080/"
        },
        "id": "UNIV17wIYmYd",
        "outputId": "0c622a8b-aeef-4bc4-a9a7-aa36a3471cd6"
      },
      "execution_count": null,
      "outputs": [
        {
          "output_type": "stream",
          "name": "stdout",
          "text": [
            "Index(['Atributo 0', 'ATRIBUTO 1', 'Fecha Venta', 'VENTA TOTAL ($)',\n",
            "       'Nombre Cliente'],\n",
            "      dtype='object')\n",
            "Index(['atributo_0', 'atributo_1', 'fecha_venta', 'venta_total_($)',\n",
            "       'nombre_cliente'],\n",
            "      dtype='object')\n",
            "  Nombre de columna Tipo de dato\n",
            "0        atributo_0        int64\n",
            "1        atributo_1        int64\n",
            "2       fecha_venta        int64\n",
            "3   venta_total_($)        int64\n",
            "4    nombre_cliente       object\n"
          ]
        }
      ]
    },
    {
      "cell_type": "markdown",
      "source": [
        "## Separar o Unir Columnas\n",
        "\n",
        "El Data Wrangling es el proceso de limpiar, transformar y estructurar los datos para su análisis. Incluye tareas como:\n",
        "\n",
        "- Eliminación de valores nulos\n",
        "- Conversión de formatos\n",
        "- Normalización de nombres de columnas\n",
        "- Separación y unión de columnas\n",
        "\n",
        "Si tenemos una columna con nombres completos (\"Juan Pérez\"), podríamos dividirla en nombre y apellido para mejorar su análisis.\n"
      ],
      "metadata": {
        "id": "P6gD-HtZcK9E"
      }
    },
    {
      "cell_type": "code",
      "source": [
        "#Importamos la librería de pandas y asignamos un alias (pd)\n",
        "import pandas as pd\n",
        "\n",
        "# Leemos el archivo que contiene comas\n",
        "df = pd.read_csv(\"drive/MyDrive/Unidad02/ex04asin.csv\")\n",
        "\n",
        "#imprimimos el nombre de las columnas\n",
        "print(df.columns)\n",
        "\n",
        "#Convertimos los nombres de las columnas a minúsculas\n",
        "df.columns = df.columns.str.strip().str.lower().str.replace(r\"[^a-z0-9_]\", \"\", regex=True)\n",
        "\n",
        "#imprimimos el nombre de las columnas\n",
        "print(df.head())"
      ],
      "metadata": {
        "colab": {
          "base_uri": "https://localhost:8080/"
        },
        "id": "LDxYKxc5cy5J",
        "outputId": "d9bbdc78-4af2-4df6-8a90-fb270497d341"
      },
      "execution_count": null,
      "outputs": [
        {
          "output_type": "stream",
          "name": "stdout",
          "text": [
            "Index(['Atributo 0', 'ATRIBUTO 1', 'Fecha Venta', 'VENTA TOTAL ($)',\n",
            "       'Nombre Cliente', ' calle', ' ciudad', ' estado'],\n",
            "      dtype='object')\n",
            "   atributo0  atributo1  fechaventa  ventatotal           nombrecliente  \\\n",
            "0          1          2           3           4  Vicente Garcia Jiménez   \n",
            "1          5          6           7           8  Gilberto Rivera Zarate   \n",
            "2          9         10          11          12  Francisco López Orozco   \n",
            "\n",
            "           calle   ciudad      estado  \n",
            "0  Lago manitoba   Juárez   Chihuahua  \n",
            "1    Av. Reforma     CDMX      México  \n",
            "2       Calle 50   Mérida     Yucatán  \n"
          ]
        }
      ]
    },
    {
      "cell_type": "markdown",
      "source": [
        "### Separar en nombre y apellidos\n",
        " Separar la columna \"nombre_cliente\" en \"nombre\" y \"apellido\". Utilizaremos  str.split() para separar la columna en dos columnas: \"nombre\" y \"apellido\".\n",
        "\n"
      ],
      "metadata": {
        "id": "kpI01lX9e0ex"
      }
    },
    {
      "cell_type": "code",
      "source": [
        "# Separar en dos columnas (Nombre y Apellido)\n",
        "df[['nombre', 'apellido']] = df['nombrecliente'].str.split(n=1, expand=True)\n",
        "\n",
        "# Mostrar resultado\n",
        "print(df)"
      ],
      "metadata": {
        "colab": {
          "base_uri": "https://localhost:8080/"
        },
        "id": "Y1jn7nbYfJ2v",
        "outputId": "ac127847-20d4-4f3b-cb41-21e1f72bae39"
      },
      "execution_count": null,
      "outputs": [
        {
          "output_type": "stream",
          "name": "stdout",
          "text": [
            "   atributo0  atributo1  fechaventa  ventatotal           nombrecliente  \\\n",
            "0          1          2           3           4  Vicente Garcia Jiménez   \n",
            "1          5          6           7           8  Gilberto Rivera Zarate   \n",
            "2          9         10          11          12  Francisco López Orozco   \n",
            "\n",
            "           calle   ciudad      estado     nombre        apellido  \n",
            "0  Lago manitoba   Juárez   Chihuahua    Vicente  Garcia Jiménez  \n",
            "1    Av. Reforma     CDMX      México   Gilberto   Rivera Zarate  \n",
            "2       Calle 50   Mérida     Yucatán  Francisco    López Orozco  \n"
          ]
        }
      ]
    },
    {
      "cell_type": "markdown",
      "source": [
        "### Separar en nombre, apellido1 y apellido2\n",
        "\n",
        "Si el nombre tiene más de un apellido, solo se separa el primer espacio y todo lo demás queda en la columna \"apellido\". Solución: Podemos separar en más de dos columnas usando n=2.\n",
        "\n",
        "Nota: Si no hay un segundo apellido, será None (NaN)."
      ],
      "metadata": {
        "id": "Xf5adTitnzMA"
      }
    },
    {
      "cell_type": "code",
      "source": [
        "#Importamos la librería de pandas y asignamos un alias (pd)\n",
        "import pandas as pd\n",
        "\n",
        "# Leemos el archivo que contiene comas\n",
        "df = pd.read_csv(\"drive/MyDrive/Unidad02/ex04asin.csv\")\n",
        "\n",
        "#imprimimos el nombre de las columnas\n",
        "print(df.columns)\n",
        "\n",
        "#Convertimos los nombres de las columnas a minúsculas\n",
        "df.columns = df.columns.str.strip().str.lower().str.replace(r\"[^a-z0-9_]\", \"\", regex=True)\n",
        "\n",
        " #podemos separar en más de dos columnas usando n=2 o rsplit().\n",
        "df[['nombre', 'apellido1', 'apellido2']] = df['nombrecliente'].str.split(n=2, expand=True)\n",
        "\n",
        "\n",
        "#imprimimos el nombre de las columnas\n",
        "print(df.head())"
      ],
      "metadata": {
        "colab": {
          "base_uri": "https://localhost:8080/"
        },
        "id": "RvthICt5gRNz",
        "outputId": "2bba6edd-610d-4d7b-e2d8-248cf37a4a3b"
      },
      "execution_count": null,
      "outputs": [
        {
          "output_type": "stream",
          "name": "stdout",
          "text": [
            "Index(['Atributo 0', 'ATRIBUTO 1', 'Fecha Venta', 'VENTA TOTAL ($)',\n",
            "       'Nombre Cliente', ' calle', ' ciudad', ' estado'],\n",
            "      dtype='object')\n",
            "   atributo0  atributo1  fechaventa  ventatotal           nombrecliente  \\\n",
            "0          1          2           3           4  Vicente Garcia Jiménez   \n",
            "1          5          6           7           8  Gilberto Rivera Zarate   \n",
            "2          9         10          11          12  Francisco López Orozco   \n",
            "\n",
            "           calle   ciudad      estado     nombre apellido1 apellido2  \n",
            "0  Lago manitoba   Juárez   Chihuahua    Vicente    Garcia   Jiménez  \n",
            "1    Av. Reforma     CDMX      México   Gilberto    Rivera    Zarate  \n",
            "2       Calle 50   Mérida     Yucatán  Francisco     López    Orozco  \n"
          ]
        }
      ]
    },
    {
      "cell_type": "markdown",
      "source": [
        "### Unir Varias Columnas en una Sola\n",
        "El proceso de separar columnas en un DataFrame es una técnica fundamental en Data Wrangling. Nos permite dividir datos combinados en varias partes para mejorar la estructura del dataset y facilitar su análisis.\n",
        "\n",
        "Si tenemos la dirección dividida en varias columnas, podemos unirlas en una sola.\n",
        "\n",
        "¿Cómo unirlas en Pandas?\n",
        "\n",
        "Usando + para concatenar, agregando separadores (\" \" o \", \") para mejor legibilidad."
      ],
      "metadata": {
        "id": "1q0SVV3YyDYv"
      }
    },
    {
      "cell_type": "code",
      "source": [
        "#Importamos la librería de pandas y asignamos un alias (pd)\n",
        "import pandas as pd\n",
        "\n",
        "# Leemos el archivo que contiene comas\n",
        "df = pd.read_csv(\"drive/MyDrive/Unidad02/ex04asin.csv\")\n",
        "\n",
        "#imprimimos el nombre de las columnas\n",
        "print(df.columns)\n",
        "\n",
        "#Convertimos los nombres de las columnas a minúsculas\n",
        "df.columns = df.columns.str.strip().str.lower().str.replace(r\"[^a-z0-9_]\", \"\", regex=True)\n",
        "\n",
        "print(df)\n",
        "\n",
        "#Creamos una nueva columna que contienen calle, ciudad y estado\n",
        "df[\"direccioncompleta\"] = df[\"calle\"] + \"-\" + df[\"ciudad\"] + \", \" + df[\"estado\"]\n",
        "print(df)"
      ],
      "metadata": {
        "colab": {
          "base_uri": "https://localhost:8080/"
        },
        "id": "iEAnRXTp4FOr",
        "outputId": "04d66ecf-ff98-4496-d2bc-c595c509a7a6"
      },
      "execution_count": null,
      "outputs": [
        {
          "output_type": "stream",
          "name": "stdout",
          "text": [
            "Index(['Atributo 0', 'ATRIBUTO 1', 'Fecha Venta', 'VENTA TOTAL ($)',\n",
            "       'Nombre Cliente', ' calle', ' ciudad', ' estado'],\n",
            "      dtype='object')\n",
            "   atributo0  atributo1  fechaventa  ventatotal           nombrecliente  \\\n",
            "0          1          2           3           4  Vicente Garcia Jiménez   \n",
            "1          5          6           7           8  Gilberto Rivera Zarate   \n",
            "2          9         10          11          12  Francisco López Orozco   \n",
            "\n",
            "           calle   ciudad      estado  \n",
            "0  Lago manitoba   Juárez   Chihuahua  \n",
            "1    Av. Reforma     CDMX      México  \n",
            "2       Calle 50   Mérida     Yucatán  \n",
            "   atributo0  atributo1  fechaventa  ventatotal           nombrecliente  \\\n",
            "0          1          2           3           4  Vicente Garcia Jiménez   \n",
            "1          5          6           7           8  Gilberto Rivera Zarate   \n",
            "2          9         10          11          12  Francisco López Orozco   \n",
            "\n",
            "           calle   ciudad      estado                  direccioncompleta  \n",
            "0  Lago manitoba   Juárez   Chihuahua  Lago manitoba- Juárez,  Chihuahua  \n",
            "1    Av. Reforma     CDMX      México         Av. Reforma- CDMX,  México  \n",
            "2       Calle 50   Mérida     Yucatán         Calle 50- Mérida,  Yucatán  \n"
          ]
        }
      ]
    },
    {
      "cell_type": "markdown",
      "source": [
        "### Tipos de Datos\n",
        "\n",
        "Los tipos de datos en Pandas:\n",
        "\n",
        "* int64: Números enteros\n",
        "* float64: Números decimales\n",
        "* object: Cadenas de texto\n",
        "* bool: Valores lógicos\n",
        "* datetime64: Fechas\n",
        "* category: Datos categóricos\n",
        "\n",
        "A continuación veremos un ejemplo con datos correctos\n"
      ],
      "metadata": {
        "id": "DmmIEEv8A5J_"
      }
    },
    {
      "cell_type": "code",
      "source": [
        "import pandas as pd\n",
        "\n",
        "# Crear DataFrame con tipos de datos adecuados\n",
        "df = pd.DataFrame({\n",
        "    'ID': [1, 2, 3, 4, 5],  # int64\n",
        "    'Nombre': ['Ana', 'Luis', 'Carlos', 'María', 'Elena'],  # object (texto)\n",
        "    'Edad': [25, 30, 35, 40, 45],  # int64\n",
        "    'Salario': [50000.0, 55000.0, 60000.0, 65000.0, 70000.0],  # float64\n",
        "    'Fecha_Contratación': pd.to_datetime(['2023-05-01', '2022-06-15', '2021-08-07', '2020-03-25', '2019-01-30']),  # datetime64\n",
        "    'Activo': [True, False, True, True, False],  # bool\n",
        "    'Categoría': pd.Categorical(['A', 'B', 'A', 'C', 'B'])  # category\n",
        "})\n",
        "\n",
        "# Mostrar tipos de datos\n",
        "print(\"Tipos de datos correctos:\\n\", df.dtypes)\n",
        "\n",
        "# Mostrar DataFrame\n",
        "print(\"\\nDataFrame con tipos de datos correctos:\\n\", df)\n"
      ],
      "metadata": {
        "colab": {
          "base_uri": "https://localhost:8080/"
        },
        "id": "3nHF6jCIC5hd",
        "outputId": "2431255b-1cd2-498e-ac85-1afa4f4a7e25"
      },
      "execution_count": null,
      "outputs": [
        {
          "output_type": "stream",
          "name": "stdout",
          "text": [
            "Tipos de datos correctos:\n",
            " ID                             int64\n",
            "Nombre                        object\n",
            "Edad                           int64\n",
            "Salario                      float64\n",
            "Fecha_Contratación    datetime64[ns]\n",
            "Activo                          bool\n",
            "Categoría                   category\n",
            "dtype: object\n",
            "\n",
            "DataFrame con tipos de datos correctos:\n",
            "    ID  Nombre  Edad  Salario Fecha_Contratación  Activo Categoría\n",
            "0   1     Ana    25  50000.0         2023-05-01    True         A\n",
            "1   2    Luis    30  55000.0         2022-06-15   False         B\n",
            "2   3  Carlos    35  60000.0         2021-08-07    True         A\n",
            "3   4   María    40  65000.0         2020-03-25    True         C\n",
            "4   5   Elena    45  70000.0         2019-01-30   False         B\n"
          ]
        }
      ]
    },
    {
      "cell_type": "markdown",
      "source": [
        "Los problemas más comunes con tipos de datos son:\n",
        "\n",
        " * Números almacenados como texto (object): No se pueden realizar operaciones matemáticas.\n",
        "\n",
        " * Fechas almacenadas como texto: No se pueden ordenar ni filtrar correctamente.\n",
        "\n",
        " * Datos categóricos mal definidos: Mayor consumo de memoria.\n",
        "\n",
        " * Valores nulos e inconsistencias: Pandas no puede interpretar valores incorrectos.\n",
        "\n",
        "Veamos un ejemplo de un CSV con datos mal definidos"
      ],
      "metadata": {
        "id": "9L7KMbCJHhlv"
      }
    },
    {
      "cell_type": "code",
      "source": [
        "import pandas as pd\n",
        "\n",
        "# Leemos el archivo que contiene errores\n",
        "df = pd.read_csv(\"drive/MyDrive/Unidad02/ex05asin.csv\")\n",
        "\n",
        "#imprimimos su contenido\n",
        "print(df)\n",
        "\n",
        "print(df.dtypes)"
      ],
      "metadata": {
        "colab": {
          "base_uri": "https://localhost:8080/"
        },
        "id": "hzeVVEING2Ut",
        "outputId": "45e7bf32-5169-43fd-ceec-f46bde1bc3e4"
      },
      "execution_count": null,
      "outputs": [
        {
          "output_type": "stream",
          "name": "stdout",
          "text": [
            "      ID      Edad  Salario Fecha_Contratación Activo Categoría\n",
            "0    001        25    50000         2023-05-01   True         A\n",
            "1    002        30    55000         15-06-2022  False         B\n",
            "2  '003'        35    60000         07/08/2021   True         A\n",
            "3    004  cuarenta    65000         2020/03/25    Yes         C\n",
            "4    005        45    70000         2019-01-30     No         B\n",
            "ID                    object\n",
            "Edad                  object\n",
            "Salario                int64\n",
            "Fecha_Contratación    object\n",
            "Activo                object\n",
            "Categoría             object\n",
            "dtype: object\n"
          ]
        }
      ]
    },
    {
      "cell_type": "markdown",
      "source": [
        "Ahora corregiremos estos problemas de datos. Para ello, usaremos lo siguiente:\n",
        "\n",
        "* pd.to_numeric(errors='coerce') para convertir números evitando errores.\n",
        "* pd.to_datetime(errors='coerce') para manejar fechas con diferentes formatos.\n",
        "* .astype('category') para optimizar memoria.\n",
        "* .replace() para convertir valores a booleanos."
      ],
      "metadata": {
        "id": "dFFygYOwNvIi"
      }
    },
    {
      "cell_type": "code",
      "source": [
        "# Mostrar tipos de datos antes de la corrección\n",
        "print(\"\\nTipos de datos antes de la corrección:\\n\", df.dtypes)\n",
        "\n",
        "# Convertir ID a int\n",
        "df['ID'] = pd.to_numeric(df['ID'], errors='coerce')\n",
        "\n",
        "# Convertir Edad a numérico, reemplazando errores con NaN\n",
        "df['Edad'] = pd.to_numeric(df['Edad'], errors='coerce')\n",
        "\n",
        "\n",
        "# Convertir Salario a float\n",
        "df['Salario'] = df['Salario'].astype(float)\n",
        "\n",
        "# Convertir Fecha_Contratación a datetime\n",
        "df['Fecha_Contratación'] = pd.to_datetime(df['Fecha_Contratación'], dayfirst=True, errors='coerce')\n",
        "\n",
        "# Convertir Activo a booleano\n",
        "df['Activo'] = df['Activo'].replace({'True': True, 'False': False, 'Yes': True, 'No': False}).astype(bool)\n",
        "\n",
        "# Convertir Categoría a tipo categórico\n",
        "df['Categoría'] = df['Categoría'].astype('category')\n",
        "\n",
        "# Mostrar tipos de datos después de la corrección\n",
        "print(\"\\nTipos de datos después de la corrección:\\n\", df.dtypes)\n",
        "\n",
        "# Mostrar el DataFrame corregido\n",
        "print(\"\\nDataFrame corregido:\\n\", df)\n",
        "\n",
        "# Mostrar el DataFrame corregido\n",
        "print(\"\\nTipos de Datos del DataFrame corregido:\\n\", df.dtypes)\n"
      ],
      "metadata": {
        "colab": {
          "base_uri": "https://localhost:8080/"
        },
        "id": "hew0FvhoNzlK",
        "outputId": "ca975ec9-d884-433f-c283-70fbc99b40d4"
      },
      "execution_count": null,
      "outputs": [
        {
          "output_type": "stream",
          "name": "stdout",
          "text": [
            "\n",
            "Tipos de datos antes de la corrección:\n",
            " ID                    object\n",
            "Edad                  object\n",
            "Salario                int64\n",
            "Fecha_Contratación    object\n",
            "Activo                object\n",
            "Categoría             object\n",
            "dtype: object\n",
            "\n",
            "Tipos de datos después de la corrección:\n",
            " ID                           float64\n",
            "Edad                         float64\n",
            "Salario                      float64\n",
            "Fecha_Contratación    datetime64[ns]\n",
            "Activo                          bool\n",
            "Categoría                   category\n",
            "dtype: object\n",
            "\n",
            "DataFrame corregido:\n",
            "     ID  Edad  Salario Fecha_Contratación  Activo Categoría\n",
            "0  1.0  25.0  50000.0         2023-01-05    True         A\n",
            "1  2.0  30.0  55000.0                NaT   False         B\n",
            "2  NaN  35.0  60000.0                NaT    True         A\n",
            "3  4.0   NaN  65000.0                NaT    True         C\n",
            "4  5.0  45.0  70000.0                NaT   False         B\n",
            "\n",
            "Tipos de Datos del DataFrame corregido:\n",
            " ID                           float64\n",
            "Edad                         float64\n",
            "Salario                      float64\n",
            "Fecha_Contratación    datetime64[ns]\n",
            "Activo                          bool\n",
            "Categoría                   category\n",
            "dtype: object\n"
          ]
        },
        {
          "output_type": "stream",
          "name": "stderr",
          "text": [
            "<ipython-input-49-13c79cf6169b>:18: FutureWarning: Downcasting behavior in `replace` is deprecated and will be removed in a future version. To retain the old behavior, explicitly call `result.infer_objects(copy=False)`. To opt-in to the future behavior, set `pd.set_option('future.no_silent_downcasting', True)`\n",
            "  df['Activo'] = df['Activo'].replace({'True': True, 'False': False, 'Yes': True, 'No': False}).astype(bool)\n"
          ]
        }
      ]
    },
    {
      "cell_type": "markdown",
      "source": [
        "Observa que en el caso de la fecha, todo aquello que no coincidió fue cambiado a NaN"
      ],
      "metadata": {
        "id": "W3cTr8Y7PFRc"
      }
    }
  ]
}
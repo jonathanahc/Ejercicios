{
  "nbformat": 4,
  "nbformat_minor": 0,
  "metadata": {
    "colab": {
      "provenance": [],
      "toc_visible": true
    },
    "kernelspec": {
      "name": "python3",
      "display_name": "Python 3"
    },
    "language_info": {
      "name": "python"
    }
  },
  "cells": [
    {
      "cell_type": "markdown",
      "source": [
        "# **Notebook: NumPy**\n",
        "\n",
        "- Maestría en Inteligencia Artificial y Analítica de Datos\n",
        "- Universidad Autónoma de Ciudad Juárez\n",
        "- Lunes 27 de enero de 2025\n",
        "- Sesión 02 - Síncrona\n",
        "\n",
        "---\n",
        "**Objetivo:** Conocer la biblioteca NumPy (Numeric"
      ],
      "metadata": {
        "id": "9vO5_RYUHOtf"
      }
    },
    {
      "cell_type": "markdown",
      "source": [
        "# **Estructuras de Datos en Análisis Descriptivo y Predictivo**\n",
        "\n",
        "<p style='text-align: justify;'> En el análisis descriptivo y predictivo, y en cualquier otra área relacionada los datos se organizan una forma tabular: filas y columnas\n",
        "\n",
        "![image.png](data:image/png;base64,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)\n",
        "\n",
        "<p style='text-align: justify;'> En Python existen diversos objetos o estructuras de datos que se emplean para representar los datos en forma de un vector (fila) o un arreglo bidimensional (filas y columnas. Algunos ejemplos son:\n",
        "\n",
        "\n",
        "\n",
        "*   Listas\n",
        "*   Tuplas\n",
        "* Diccionarios\n",
        "* ndarray\n",
        "* dataframe\n",
        "* tensor\n",
        "\n",
        "<p style='text-align: justify;'> Se han creado diversas estructuras de datos con la finalidad de que sea fácil de manipular para el usuario y que sean extremadamente eficientes en términos de memoria y velocidad\n"
      ],
      "metadata": {
        "id": "kF71A0kkHFl7"
      }
    },
    {
      "cell_type": "markdown",
      "source": [
        "## **Representación Matemática de lo Datos Tabulares**\n",
        "\n",
        "Un elemento se puede representar como\n",
        "\n",
        "Vector fila $=[x_1,x_2, …, x_m]$\n",
        "\n",
        "Vetor Columna\n",
        "$\\begin{bmatrix}\n",
        "           x_{1} \\\\\n",
        "           x_{2} \\\\\n",
        "           \\vdots \\\\\n",
        "           x_{n}\n",
        "\\end{bmatrix}$\n",
        "\n",
        "Arreglos bidimensionales Matriz Cuadrada $n \\times n$\n",
        "\n",
        "$\\begin{bmatrix}\n",
        "x_{11} & x_{12} & x_{13}\\\\\n",
        "x_{21} & x_{22} & x_{23}\\\\\n",
        "x_{31} & x_{32} & x_{33}\\\\\n",
        "\\end{bmatrix}$\n",
        "\n",
        "Arreglos bidimensionales Matriz  No Cuadrada $n \\times m$\n",
        "\n",
        "$\\begin{bmatrix}\n",
        "x_{11} & x_{12} \\\\\n",
        "x_{21} & x_{22} \\\\\n",
        "x_{31} & x_{32}\\\\\n",
        "\\end{bmatrix}$"
      ],
      "metadata": {
        "id": "2LZUEYe5OtMC"
      }
    },
    {
      "cell_type": "markdown",
      "source": [
        "## **Lista**\n",
        "\n",
        "Una *lista* en Python es una colección ordenada de elementos que puede contener diferentes tipos de datos. Es uno de los tipos de datos más utilizados en Python debido a su flexibilidad y facilidad de uso."
      ],
      "metadata": {
        "id": "DcnQ2PShQ6X2"
      }
    },
    {
      "cell_type": "code",
      "execution_count": 12,
      "metadata": {
        "colab": {
          "base_uri": "https://localhost:8080/"
        },
        "id": "tgQQm92IHAQu",
        "outputId": "4415e87c-dfcc-48a2-a178-cb1a58fbb384"
      },
      "outputs": [
        {
          "output_type": "stream",
          "name": "stdout",
          "text": [
            "Tipo de objeto  <class 'list'>\n",
            "Primer elemento  1\n",
            "Segundo elemento  5\n",
            "Cada elemento del vector\n",
            "1\n",
            "2\n",
            "3\n",
            "4\n",
            "5\n",
            "Todos los elementos, del vector [1, 2, 3, 4, 5]\n"
          ]
        }
      ],
      "source": [
        "#Crea un vector fila\n",
        "vector =[1, 2, 3, 4, 5]\n",
        "\n",
        "print(\"Tipo de objeto \",type(vector))\n",
        "\n",
        "#Acceder a un elemento usando el índice (valor número o variable numérica)\n",
        "print(\"Primer elemento \", vector[0]) #Primer Elemento\n",
        "print(\"Segundo elemento \",vector[-1]) #último Elemento\n",
        "\n",
        "#Imprimir cada elemento del vector\n",
        "print(\"Cada elemento del vector\")\n",
        "for celda in vector:\n",
        "  print(celda)\n",
        "\n",
        "print(\"Todos los elementos, del vector\",vector)\n"
      ]
    },
    {
      "cell_type": "code",
      "source": [
        "#Crear una matriz o arreglo bidimensional como una lista anidada\n",
        "matriz = [\n",
        "    [1,2,3], #Fila 1\n",
        "    [4,5,6], #Fila 2\n",
        "    [7,8,9]  #Fila 3\n",
        "]\n",
        "\n",
        "#para acceder a un elemento se usa fila y columna\n",
        "\n",
        "fila = 1\n",
        "columna =2\n",
        "print(\"Acceder al primer elemento de la matriz\", matriz[fila][columna])\n",
        "\n",
        "\n",
        "#Imprimir matriz o arreglo bidimensional\n",
        "print(\"Imprimir for fila\")\n",
        "for fila in matriz:\n",
        "  print(fila) #imprime toda la fila\n"
      ],
      "metadata": {
        "colab": {
          "base_uri": "https://localhost:8080/"
        },
        "id": "aGMHS3eRR9hD",
        "outputId": "f8eece3e-a87c-4f8e-8fbf-e0fa38c9aff5"
      },
      "execution_count": 13,
      "outputs": [
        {
          "output_type": "stream",
          "name": "stdout",
          "text": [
            "Acceder al primer elemento de la matriz 6\n",
            "Imprimir for fila\n",
            "[1, 2, 3]\n",
            "[4, 5, 6]\n",
            "[7, 8, 9]\n"
          ]
        }
      ]
    },
    {
      "cell_type": "markdown",
      "source": [
        "### **Listas Ventajas y Desventajas**\n",
        "\n",
        "Ventajas\n",
        "\n",
        "\n",
        "*   Heterogénas: almacenan datos de diferentes tipos\n",
        "*   Anidación: pueden contener otras listas\n",
        "* Dinámicas: no requiren declarar su tamaño y pueden agregar/eliminar elementos en tiempo de ejecución\n",
        "\n",
        "Desventajas:\n",
        "\n",
        "\n",
        "*   Menor eficiencia para grandes volúmenes de datos\n",
        "*   No están optimizadas para cálculos numéricos\n",
        "* Operaciones matemáticas y lógicas limitadas: necesitan de bucles explicitos\n",
        "\n",
        "\n",
        "\n"
      ],
      "metadata": {
        "id": "wvv2Jvw2Y_X5"
      }
    },
    {
      "cell_type": "code",
      "source": [
        "#Ejemplos de bucles explícitos para operaciones matemáticas\n",
        "# Crear una lista de números\n",
        "numeros = [1, 2, 3, 4, 5]\n",
        "\n",
        "# Multiplicar cada número por 2\n",
        "numeros_doblados = [n * 2 for n in numeros]\n",
        "print(numeros_doblados)  # [2, 4, 6, 8, 10]\n",
        "\n",
        "\n",
        "# hlper_fnc function\n",
        "def hlper_fnc(test_list):\n",
        "\t# declare empty list\n",
        "\tsub1 = []\n",
        "\tsub2 = []\n",
        "\n",
        "\tres = (sub1, sub2)\n",
        "\tfor sub in test_list:\n",
        "\t\t# add element in the last of the list\n",
        "\t\tsub1.append(sub[0]) #Almacena los primeros elementos de las tuplas\n",
        "\t\tsub2.append(sub[1]) #Almacena los segundos elementos de las tuplas\n",
        "\t\t#print(sub)\n",
        "\n",
        "\treturn res\n",
        "\n",
        "# initializing list\n",
        "test_list = [(5, 1), (3, 4), (9, 7), (10, 6)]\n",
        "\n",
        "# imprime la lista original\n",
        "print(\"La lista original : \" + str(test_list))\n",
        "\n",
        "# Usando un ciclo for\n",
        "res = hlper_fnc(test_list)\n",
        "\n",
        "# printing result\n",
        "print(\"La lista transpuesta es : \" + str(res))"
      ],
      "metadata": {
        "colab": {
          "base_uri": "https://localhost:8080/"
        },
        "id": "F_uuYsOedxR-",
        "outputId": "03be7353-9b95-434c-82d5-d8c69609137d"
      },
      "execution_count": 14,
      "outputs": [
        {
          "output_type": "stream",
          "name": "stdout",
          "text": [
            "[2, 4, 6, 8, 10]\n",
            "La lista original : [(5, 1), (3, 4), (9, 7), (10, 6)]\n",
            "La lista transpuesta es : ([5, 3, 9, 10], [1, 4, 7, 6])\n"
          ]
        }
      ]
    },
    {
      "cell_type": "markdown",
      "source": [
        "![image.png](data:image/png;base64,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)"
      ],
      "metadata": {
        "id": "5-UKASTnG0Tt"
      }
    },
    {
      "cell_type": "markdown",
      "source": [
        "# **NumPy**\n",
        "\n",
        "NumPy (Numerical Python) es una biblioteca fundamental para la computación científica en Python. Proporciona soporte para manejar grandes arreglos y matrices multidimensionales, junto con una colección de funciones matemáticas de alto rendimiento para operar con estos datos.\n",
        "\n",
        "\n",
        "\n",
        "*   Creación e inicialización de array multidimensionales\n",
        "*   Operaciones matemáticas\n",
        "* Algebra lineal\n",
        "* Estadísticas\n",
        "*Manejo de datos aleatorios\n",
        "* Funciones de manipulación de array - Transformaciones\n",
        "* Rutinas de Entrada y salida\n",
        "* Utilidades para testeo y depuración\n",
        "\n",
        "Para poder usar NumPy es necesario importar la biblioteca\n",
        "\n",
        "```python\n",
        "# importar toda la biblioteca\n",
        "import numpy\n",
        "```\n",
        "Se puede especificar un alias para NumPy, por lo general se usa np, para ahorrar tiempo y reducir el código\n",
        "\n",
        "\n",
        "```python\n",
        "# importar toda la biblioteca y se usa un alias\n",
        "import numpy as np\n",
        "```\n",
        "\n",
        "Para obtener una lista completa de las funciones u objetos disponibles en tu instalación de NumPy, puedes ejecutar el siguiente código:"
      ],
      "metadata": {
        "id": "g_8wVDampwD1"
      }
    },
    {
      "cell_type": "code",
      "source": [
        "#Importar la biblioteca con un alias\n",
        "import numpy as np\n",
        "\n",
        "#Mostrar todos los atributos y métodos disponibles en NumPy\n",
        "print(dir(np))\n",
        "\n",
        "#Contar el número total de atributos y métodos en NumPy\n",
        "print(len(dir(np)))"
      ],
      "metadata": {
        "colab": {
          "base_uri": "https://localhost:8080/"
        },
        "id": "UjejT7l4tuf6",
        "outputId": "5f572969-aaa9-4383-fb45-ba2629841b18"
      },
      "execution_count": 15,
      "outputs": [
        {
          "output_type": "stream",
          "name": "stdout",
          "text": [
            "['ALLOW_THREADS', 'BUFSIZE', 'CLIP', 'DataSource', 'ERR_CALL', 'ERR_DEFAULT', 'ERR_IGNORE', 'ERR_LOG', 'ERR_PRINT', 'ERR_RAISE', 'ERR_WARN', 'FLOATING_POINT_SUPPORT', 'FPE_DIVIDEBYZERO', 'FPE_INVALID', 'FPE_OVERFLOW', 'FPE_UNDERFLOW', 'False_', 'Inf', 'Infinity', 'MAXDIMS', 'MAY_SHARE_BOUNDS', 'MAY_SHARE_EXACT', 'NAN', 'NINF', 'NZERO', 'NaN', 'PINF', 'PZERO', 'RAISE', 'RankWarning', 'SHIFT_DIVIDEBYZERO', 'SHIFT_INVALID', 'SHIFT_OVERFLOW', 'SHIFT_UNDERFLOW', 'ScalarType', 'True_', 'UFUNC_BUFSIZE_DEFAULT', 'UFUNC_PYVALS_NAME', 'WRAP', '_CopyMode', '_NoValue', '_UFUNC_API', '__NUMPY_SETUP__', '__all__', '__builtins__', '__cached__', '__config__', '__deprecated_attrs__', '__dir__', '__doc__', '__expired_functions__', '__file__', '__former_attrs__', '__future_scalars__', '__getattr__', '__loader__', '__name__', '__package__', '__path__', '__spec__', '__version__', '_add_newdoc_ufunc', '_builtins', '_distributor_init', '_financial_names', '_get_promotion_state', '_globals', '_int_extended_msg', '_mat', '_no_nep50_warning', '_pyinstaller_hooks_dir', '_pytesttester', '_set_promotion_state', '_specific_msg', '_typing', '_using_numpy2_behavior', '_utils', 'abs', 'absolute', 'add', 'add_docstring', 'add_newdoc', 'add_newdoc_ufunc', 'all', 'allclose', 'alltrue', 'amax', 'amin', 'angle', 'any', 'append', 'apply_along_axis', 'apply_over_axes', 'arange', 'arccos', 'arccosh', 'arcsin', 'arcsinh', 'arctan', 'arctan2', 'arctanh', 'argmax', 'argmin', 'argpartition', 'argsort', 'argwhere', 'around', 'array', 'array2string', 'array_equal', 'array_equiv', 'array_repr', 'array_split', 'array_str', 'asanyarray', 'asarray', 'asarray_chkfinite', 'ascontiguousarray', 'asfarray', 'asfortranarray', 'asmatrix', 'atleast_1d', 'atleast_2d', 'atleast_3d', 'average', 'bartlett', 'base_repr', 'binary_repr', 'bincount', 'bitwise_and', 'bitwise_not', 'bitwise_or', 'bitwise_xor', 'blackman', 'block', 'bmat', 'bool_', 'broadcast', 'broadcast_arrays', 'broadcast_shapes', 'broadcast_to', 'busday_count', 'busday_offset', 'busdaycalendar', 'byte', 'byte_bounds', 'bytes_', 'c_', 'can_cast', 'cast', 'cbrt', 'cdouble', 'ceil', 'cfloat', 'char', 'character', 'chararray', 'choose', 'clip', 'clongdouble', 'clongfloat', 'column_stack', 'common_type', 'compare_chararrays', 'compat', 'complex128', 'complex256', 'complex64', 'complex_', 'complexfloating', 'compress', 'concatenate', 'conj', 'conjugate', 'convolve', 'copy', 'copysign', 'copyto', 'corrcoef', 'correlate', 'cos', 'cosh', 'count_nonzero', 'cov', 'cross', 'csingle', 'ctypeslib', 'cumprod', 'cumproduct', 'cumsum', 'datetime64', 'datetime_as_string', 'datetime_data', 'deg2rad', 'degrees', 'delete', 'deprecate', 'deprecate_with_doc', 'diag', 'diag_indices', 'diag_indices_from', 'diagflat', 'diagonal', 'diff', 'digitize', 'disp', 'divide', 'divmod', 'dot', 'double', 'dsplit', 'dstack', 'dtype', 'dtypes', 'e', 'ediff1d', 'einsum', 'einsum_path', 'emath', 'empty', 'empty_like', 'equal', 'errstate', 'euler_gamma', 'exceptions', 'exp', 'exp2', 'expand_dims', 'expm1', 'extract', 'eye', 'fabs', 'fastCopyAndTranspose', 'fft', 'fill_diagonal', 'find_common_type', 'finfo', 'fix', 'flatiter', 'flatnonzero', 'flexible', 'flip', 'fliplr', 'flipud', 'float128', 'float16', 'float32', 'float64', 'float_', 'float_power', 'floating', 'floor', 'floor_divide', 'fmax', 'fmin', 'fmod', 'format_float_positional', 'format_float_scientific', 'format_parser', 'frexp', 'from_dlpack', 'frombuffer', 'fromfile', 'fromfunction', 'fromiter', 'frompyfunc', 'fromregex', 'fromstring', 'full', 'full_like', 'gcd', 'generic', 'genfromtxt', 'geomspace', 'get_array_wrap', 'get_include', 'get_printoptions', 'getbufsize', 'geterr', 'geterrcall', 'geterrobj', 'gradient', 'greater', 'greater_equal', 'half', 'hamming', 'hanning', 'heaviside', 'histogram', 'histogram2d', 'histogram_bin_edges', 'histogramdd', 'hsplit', 'hstack', 'hypot', 'i0', 'identity', 'iinfo', 'imag', 'in1d', 'index_exp', 'indices', 'inexact', 'inf', 'info', 'infty', 'inner', 'insert', 'int16', 'int32', 'int64', 'int8', 'int_', 'intc', 'integer', 'interp', 'intersect1d', 'intp', 'invert', 'is_busday', 'isclose', 'iscomplex', 'iscomplexobj', 'isfinite', 'isfortran', 'isin', 'isinf', 'isnan', 'isnat', 'isneginf', 'isposinf', 'isreal', 'isrealobj', 'isscalar', 'issctype', 'issubclass_', 'issubdtype', 'issubsctype', 'iterable', 'ix_', 'kaiser', 'kernel_version', 'kron', 'lcm', 'ldexp', 'left_shift', 'less', 'less_equal', 'lexsort', 'lib', 'linalg', 'linspace', 'little_endian', 'load', 'loadtxt', 'log', 'log10', 'log1p', 'log2', 'logaddexp', 'logaddexp2', 'logical_and', 'logical_not', 'logical_or', 'logical_xor', 'logspace', 'longcomplex', 'longdouble', 'longfloat', 'longlong', 'lookfor', 'ma', 'mask_indices', 'mat', 'matmul', 'matrix', 'max', 'maximum', 'maximum_sctype', 'may_share_memory', 'mean', 'median', 'memmap', 'meshgrid', 'mgrid', 'min', 'min_scalar_type', 'minimum', 'mintypecode', 'mod', 'modf', 'moveaxis', 'msort', 'multiply', 'nan', 'nan_to_num', 'nanargmax', 'nanargmin', 'nancumprod', 'nancumsum', 'nanmax', 'nanmean', 'nanmedian', 'nanmin', 'nanpercentile', 'nanprod', 'nanquantile', 'nanstd', 'nansum', 'nanvar', 'nbytes', 'ndarray', 'ndenumerate', 'ndim', 'ndindex', 'nditer', 'negative', 'nested_iters', 'newaxis', 'nextafter', 'nonzero', 'not_equal', 'numarray', 'number', 'obj2sctype', 'object_', 'ogrid', 'oldnumeric', 'ones', 'ones_like', 'outer', 'packbits', 'pad', 'partition', 'percentile', 'pi', 'piecewise', 'place', 'poly', 'poly1d', 'polyadd', 'polyder', 'polydiv', 'polyfit', 'polyint', 'polymul', 'polynomial', 'polysub', 'polyval', 'positive', 'power', 'printoptions', 'prod', 'product', 'promote_types', 'ptp', 'put', 'put_along_axis', 'putmask', 'quantile', 'r_', 'rad2deg', 'radians', 'random', 'ravel', 'ravel_multi_index', 'real', 'real_if_close', 'rec', 'recarray', 'recfromcsv', 'recfromtxt', 'reciprocal', 'record', 'remainder', 'repeat', 'require', 'reshape', 'resize', 'result_type', 'right_shift', 'rint', 'roll', 'rollaxis', 'roots', 'rot90', 'round', 'round_', 'row_stack', 's_', 'safe_eval', 'save', 'savetxt', 'savez', 'savez_compressed', 'sctype2char', 'sctypeDict', 'sctypes', 'searchsorted', 'select', 'set_numeric_ops', 'set_printoptions', 'set_string_function', 'setbufsize', 'setdiff1d', 'seterr', 'seterrcall', 'seterrobj', 'setxor1d', 'shape', 'shares_memory', 'short', 'show_config', 'show_runtime', 'sign', 'signbit', 'signedinteger', 'sin', 'sinc', 'single', 'singlecomplex', 'sinh', 'size', 'sometrue', 'sort', 'sort_complex', 'source', 'spacing', 'split', 'sqrt', 'square', 'squeeze', 'stack', 'std', 'str_', 'string_', 'subtract', 'sum', 'swapaxes', 'take', 'take_along_axis', 'tan', 'tanh', 'tensordot', 'test', 'testing', 'tile', 'timedelta64', 'trace', 'tracemalloc_domain', 'transpose', 'trapz', 'tri', 'tril', 'tril_indices', 'tril_indices_from', 'trim_zeros', 'triu', 'triu_indices', 'triu_indices_from', 'true_divide', 'trunc', 'typecodes', 'typename', 'ubyte', 'ufunc', 'uint', 'uint16', 'uint32', 'uint64', 'uint8', 'uintc', 'uintp', 'ulonglong', 'unicode_', 'union1d', 'unique', 'unpackbits', 'unravel_index', 'unsignedinteger', 'unwrap', 'ushort', 'vander', 'var', 'vdot', 'vectorize', 'version', 'void', 'vsplit', 'vstack', 'where', 'who', 'zeros', 'zeros_like']\n",
            "594\n"
          ]
        }
      ]
    },
    {
      "cell_type": "markdown",
      "source": [
        "## **Creación de Arrays**\n",
        "\n",
        "Existen dos formas de crear arreglos:\n",
        "\n",
        "1.   *np.array()*\n",
        "2.   Arreglos con valores inicializados automáticament: ceros, unos, aleatorios, etc.\n",
        "\n"
      ],
      "metadata": {
        "id": "XWxfwDwfydpp"
      }
    },
    {
      "cell_type": "code",
      "source": [
        "#Arreglo de 0-dimensiones: Escalar\n",
        "arr = np.array(42)\n",
        "\n",
        "print(\"Arreglo de 0-dimensiones (Escalar):\", arr)\n",
        "\n",
        "\n",
        "#Arreglo 1D (vector)\n",
        "arr = np.array([1, 2, 3, 4, 5])\n",
        "\n",
        "print(\"Arreglo 1D \",arr)\n",
        "\n",
        "\n",
        "#Arreglo 2D (Matriz)\n",
        "arr = np.array([[1, 2, 3], [4, 5, 6]])\n",
        "\n",
        "print(\"Arreglo 2D \")\n",
        "print(arr)\n",
        "\n",
        "\n",
        "arr = np.array([[[1, 2, 3], [4, 5, 6]], [[1, 2, 3], [4, 5, 6]]])\n",
        "print(\"Arreglo 3D \")\n",
        "print(arr)\n",
        "\n",
        "print(arr.shape)"
      ],
      "metadata": {
        "colab": {
          "base_uri": "https://localhost:8080/"
        },
        "id": "5M9vdXY5tznw",
        "outputId": "f5ceebb1-eafc-4752-c4cd-bc84f3856853"
      },
      "execution_count": 16,
      "outputs": [
        {
          "output_type": "stream",
          "name": "stdout",
          "text": [
            "Arreglo de 0-dimensiones (Escalar): 42\n",
            "Arreglo 1D  [1 2 3 4 5]\n",
            "Arreglo 2D \n",
            "[[1 2 3]\n",
            " [4 5 6]]\n",
            "Arreglo 3D \n",
            "[[[1 2 3]\n",
            "  [4 5 6]]\n",
            "\n",
            " [[1 2 3]\n",
            "  [4 5 6]]]\n",
            "(2, 2, 3)\n"
          ]
        }
      ]
    },
    {
      "cell_type": "code",
      "source": [
        "print(\"Arrays inicializados automáticamente\")\n",
        "print()\n",
        "array_zeros = np.zeros((3, 4))  # Array 3x4 lleno de ceros\n",
        "\n",
        "print(\"Array 3x4 lleno de ceros\")\n",
        "\n",
        "print(array_zeros)\n",
        "print()\n",
        "\n",
        "print(\"Crea un arreglo de 10 elementos con valores enteros aleatorios entre 0 y 50\")\n",
        "array_intrand = np.random.randint(0,51,10)\n",
        "print(array_intrand)\n",
        "print()\n",
        "\n",
        "array_ones = np.ones((2, 5))  # Array 2x5 lleno de unos\n",
        "print(\"Array 2x5 lleno de unos\")\n",
        "print(array_ones)\n",
        "print()\n",
        "\n",
        "\n",
        "array_empty = np.empty((2, 3))  # Array 2x3 con valores aleatorios\n",
        "print(\"Array 2x3 con valores muy cercanos al cero\")\n",
        "print(array_empty)\n",
        "print()\n",
        "#Nota importante todas las dimensiones de los arreglos se definió\n",
        "#usando una tupla, pero también se puede usar una lista\n",
        "\n",
        "# Usando una tupla para definir las dimensiones\n",
        "array_tupla = np.empty((2, 3))\n",
        "\n",
        "# Usando una lista para definir las dimensiones\n",
        "array_lista = np.empty([2, 3])\n",
        "\n",
        "print(\"Array con tupla:\\n\", array_tupla)\n",
        "print(\"Array con lista:\\n\", array_lista)\n",
        "print()\n",
        "\n",
        "\n",
        "array_full = np.full((3, 3), 7)  # Array 3x3 lleno de 7\n",
        "print(\"Array 3x3 lleno de 7\")\n",
        "print(array_full)\n",
        "print()\n",
        "\n",
        "#arange genera un array tomando como referencia\n",
        "#valores inicio y final, así como el incremento entre ellos\n",
        "\n",
        "array_arange = np.arange(0, 10, 2)  # [0, 2, 4, 6, 8]\n",
        "print(\"Array con valor inicial de 0 y termina con el penúltimo valor del limite superior, y con incrementos de 2\")\n",
        "print(array_arange)\n",
        "print()\n",
        "\n",
        "#linespace(valor inicial, valo final, número de valores)\n",
        "array_linspace = np.linspace(0, 1, 5)  # [0. , 0.25, 0.5 , 0.75, 1. ]\n",
        "print(\"Crea un array con números distribuidos uniformemente \")\n",
        "print(array_linspace)\n",
        "\n",
        "array_random = np.random.rand(3, 3)  # Array 3x3 con valores aleatorios entre 0 y 1\n",
        "print(\"Array 3x3 con valores aleatorios entre 0 y 1\")\n",
        "print(array_random)\n",
        "print()\n",
        "\n",
        "print(\"Existen varias distribuciones para generar números aleatorios\")\n",
        "\n",
        "array_binom = np.random.binomial(n=10, p=0.5, size=(3,3))\n",
        "print(\"Array 3x3 con distribución binomial\")\n",
        "print(array_binom)\n",
        "print()\n",
        "\n",
        "array_randint = np.random.randint(1, 10, size=(2, 4))  # Array 2x4 con enteros entre 1 y 9\n",
        "print(\"Array 2x4 con enteros entre 1 y 9\")\n",
        "print(array_randint)\n",
        "print()\n",
        "\n",
        "\n",
        "array_identidad = np.eye(4)  # Matriz identidad 4x4\n",
        "print(\"Array identidad 4x4\")\n",
        "print(array_identidad)\n",
        "print()\n"
      ],
      "metadata": {
        "colab": {
          "base_uri": "https://localhost:8080/"
        },
        "id": "KnH-ghbO0OTV",
        "outputId": "956e20de-0c76-4162-8bc9-dfc67fb15bd9"
      },
      "execution_count": 17,
      "outputs": [
        {
          "output_type": "stream",
          "name": "stdout",
          "text": [
            "Arrays inicializados automáticamente\n",
            "\n",
            "Array 3x4 lleno de ceros\n",
            "[[0. 0. 0. 0.]\n",
            " [0. 0. 0. 0.]\n",
            " [0. 0. 0. 0.]]\n",
            "\n",
            "Crea un arreglo de 10 elementos con valores enteros aleatorios entre 0 y 50\n",
            "[48 35 48 13 40 39 40  3 10 30]\n",
            "\n",
            "Array 2x5 lleno de unos\n",
            "[[1. 1. 1. 1. 1.]\n",
            " [1. 1. 1. 1. 1.]]\n",
            "\n",
            "Array 2x3 con valores muy cercanos al cero\n",
            "[[4.9e-324 9.9e-324 1.5e-323]\n",
            " [2.0e-323 2.5e-323 3.0e-323]]\n",
            "\n",
            "Array con tupla:\n",
            " [[4.9e-324 9.9e-324 1.5e-323]\n",
            " [2.0e-323 2.5e-323 3.0e-323]]\n",
            "Array con lista:\n",
            " [[4.9e-324 9.9e-324 1.5e-323]\n",
            " [2.0e-323 2.5e-323 3.0e-323]]\n",
            "\n",
            "Array 3x3 lleno de 7\n",
            "[[7 7 7]\n",
            " [7 7 7]\n",
            " [7 7 7]]\n",
            "\n",
            "Array con valor inicial de 0 y termina con el penúltimo valor del limite superior, y con incrementos de 2\n",
            "[0 2 4 6 8]\n",
            "\n",
            "Crea un array con números distribuidos uniformemente \n",
            "[0.   0.25 0.5  0.75 1.  ]\n",
            "Array 3x3 con valores aleatorios entre 0 y 1\n",
            "[[0.09082146 0.0121893  0.73958977]\n",
            " [0.98600596 0.30583035 0.11618729]\n",
            " [0.03451802 0.7332108  0.61588322]]\n",
            "\n",
            "Existen varias distribuciones para generar números aleatorios\n",
            "Array 3x3 con distribución binomial\n",
            "[[3 3 4]\n",
            " [5 5 3]\n",
            " [4 5 4]]\n",
            "\n",
            "Array 2x4 con enteros entre 1 y 9\n",
            "[[9 7 9 2]\n",
            " [9 7 2 7]]\n",
            "\n",
            "Array identidad 4x4\n",
            "[[1. 0. 0. 0.]\n",
            " [0. 1. 0. 0.]\n",
            " [0. 0. 1. 0.]\n",
            " [0. 0. 0. 1.]]\n",
            "\n"
          ]
        }
      ]
    },
    {
      "cell_type": "markdown",
      "source": [
        "## **Propiedades de un ndarray**\n",
        "\n",
        "* Forma (shape): Tupla que indica el número de elementos en cada dimensión  (ejemplo: (3, 4) para un array de 3 filas y 4 columnas).\n",
        "\n",
        "* Dimensión (ndim): Número total de dimensiones del array.\n",
        "* Tamaño (size): Número total de elementos del array.\n",
        "* Tipo de Datos (dtype): Tipo de los elementos almacenados (ejemplo: int32, float64)."
      ],
      "metadata": {
        "id": "of-v0K9R6hWP"
      }
    },
    {
      "cell_type": "code",
      "source": [
        "# Crear un ndarray unidimensional\n",
        "array_1d = np.array([1, 2, 3, 4, 5])\n",
        "\n",
        "# Crear un ndarray bidimensional\n",
        "array_2d = np.array([[1, 2, 3], [4, 5, 6]])\n",
        "\n",
        "# Propiedades del ndarray\n",
        "print(\"Array 1D:\", array_1d)\n",
        "print(\"Forma (shape):\", array_1d.shape)\n",
        "print(\"Dimensiones (ndim):\", array_1d.ndim)\n",
        "print(\"Tamaño (size):\", array_1d.size)\n",
        "print(\"Tipo de datos (dtype):\", array_1d.dtype)\n",
        "\n",
        "print(\"\\nArray 2D:\")\n",
        "print(array_2d)\n",
        "print(\"Forma (shape):\", array_2d.shape)\n",
        "print(\"Filas:\", array_2d.shape[0])\n",
        "print(\"Columnas:\", array_2d.shape[1])\n",
        "print(\"Dimensiones (ndim):\", array_2d.ndim)\n",
        "print(\"Tamaño (size):\", array_2d.size)\n",
        "print(\"Tipo de datos (dtype):\", array_2d.dtype)\n"
      ],
      "metadata": {
        "colab": {
          "base_uri": "https://localhost:8080/"
        },
        "id": "StLmIkxJ6g_L",
        "outputId": "a443bdfb-1f6f-409a-9971-333b2155d1d4"
      },
      "execution_count": 18,
      "outputs": [
        {
          "output_type": "stream",
          "name": "stdout",
          "text": [
            "Array 1D: [1 2 3 4 5]\n",
            "Forma (shape): (5,)\n",
            "Dimensiones (ndim): 1\n",
            "Tamaño (size): 5\n",
            "Tipo de datos (dtype): int64\n",
            "\n",
            "Array 2D:\n",
            "[[1 2 3]\n",
            " [4 5 6]]\n",
            "Forma (shape): (2, 3)\n",
            "Filas: 2\n",
            "Columnas: 3\n",
            "Dimensiones (ndim): 2\n",
            "Tamaño (size): 6\n",
            "Tipo de datos (dtype): int64\n"
          ]
        }
      ]
    },
    {
      "cell_type": "markdown",
      "source": [
        "## **Indexación y Segmentación/Corte**\n",
        "\n",
        "**Indexación y Segmetación/Corte** son conceptos fundamentales en NumPy que permiten acceder, manipular y extraer subconjuntos de datos de los arrays n-dimensionales (ndarray).\n",
        "\n",
        "\n",
        "\n",
        "1.   Indexación: Se refiere al proceso de acceder a elementos individuales en una estructura de datos utilizando sus índices.\n",
        "2.   Segmentación o corte: Hace referencia a la acción de extraer subconjuntos de datos utilizando rangos de índices.\n",
        "\n"
      ],
      "metadata": {
        "id": "DDgh57KbftdB"
      }
    },
    {
      "cell_type": "markdown",
      "source": [
        "### **Indexación**\n",
        "\n",
        "En NumPy, los índices **comienzan desde 0 **(como en las listas de Python).\n",
        "\n",
        "Existen tres tipos de indexación:\n",
        "\n",
        "1.   **Indexación simple**: Para acceder a un elemento específico.\n",
        "2.   **Indexación multidimensional**: Para acceder a elementos en arrays de más de una dimensión.\n",
        "3. **Indexación booleana**: Para seleccionar elementos que cumplen una condición."
      ],
      "metadata": {
        "id": "V-XBpeM-h8_1"
      }
    },
    {
      "cell_type": "code",
      "source": [
        "# Array unidimensional\n",
        "array_1d = np.array([10, 20, 30, 40, 50])\n",
        "print(array_1d[0])  # Salida: 10\n",
        "print(array_1d[3])  # Salida: 40\n",
        "\n",
        "# Array bidimensional\n",
        "array_2d = np.array([[1, 2, 3], [4, 5, 6], [7, 8, 9]])\n",
        "print(array_2d[1, 2])  # Salida: 6 (fila 1, columna 2)\n",
        "print(array_2d[0, 0])  # Salida: 1 (fila 0, columna 0)\n",
        "\n",
        "# Indexación booleana\n",
        "print(array_1d[array_1d > 30])  # Salida: [40 50] (elementos mayores a 30)\n"
      ],
      "metadata": {
        "colab": {
          "base_uri": "https://localhost:8080/"
        },
        "id": "EZCertJEidjI",
        "outputId": "7f67b537-1935-4186-97d9-7ac86ccdb928"
      },
      "execution_count": 19,
      "outputs": [
        {
          "output_type": "stream",
          "name": "stdout",
          "text": [
            "10\n",
            "40\n",
            "6\n",
            "1\n",
            "[40 50]\n"
          ]
        }
      ]
    },
    {
      "cell_type": "markdown",
      "source": [
        "### Segmentación/Corte\n",
        "\n",
        "Se utiliza para acceder a un subconjunto de elementos de un array. Usa la **notación de corte** **inicio:fin:paso **para definir el rango de índices.\n",
        "\n",
        "* **inicio**: índice donde comienza el corte (incluido, predeterminado: 0).\n",
        "* **fin**: índice donde termina el corte (excluido).\n",
        "* **paso**: intervalo entre elementos seleccionados (predeterminado: 1)."
      ],
      "metadata": {
        "id": "bqvHgokjiquk"
      }
    },
    {
      "cell_type": "code",
      "source": [
        "# Array unidimensional\n",
        "array_1d = np.array([10, 20, 30, 40, 50])\n",
        "print(array_1d[1:4])      # Salida: [20 30 40] (desde índice 1 hasta 3)\n",
        "print(array_1d[:3])       # Salida: [10 20 30] (desde inicio hasta índice 2)\n",
        "print(array_1d[::2])      # Salida: [10 30 50] (cada 2 elementos)\n",
        "\n",
        "# Array bidimensional\n",
        "array_2d = np.array([[1, 2, 3], [4, 5, 6], [7, 8, 9]])\n",
        "print(array_2d[1:, :2])   # Salida: [[4 5] [7 8]] (submatriz desde fila 1, columnas 0-1)\n",
        "print(array_2d[:, ::2])   # Salida: [[1 3] [4 6] [7 9]] (todas las filas, columnas alternas)\n"
      ],
      "metadata": {
        "colab": {
          "base_uri": "https://localhost:8080/"
        },
        "id": "T-66ylCGjCjt",
        "outputId": "c05cdf81-d728-43fa-9306-e0faa0822351"
      },
      "execution_count": 20,
      "outputs": [
        {
          "output_type": "stream",
          "name": "stdout",
          "text": [
            "[20 30 40]\n",
            "[10 20 30]\n",
            "[10 30 50]\n",
            "[[4 5]\n",
            " [7 8]]\n",
            "[[1 3]\n",
            " [4 6]\n",
            " [7 9]]\n"
          ]
        }
      ]
    },
    {
      "cell_type": "markdown",
      "source": [
        "## **Operaciones Matemáticas Básicas**\n",
        "\n",
        "Se realizan de manear vectorizada en los elementos de un array: suma, resta, multiplicación, división, potencia"
      ],
      "metadata": {
        "id": "s0apJD76BVVd"
      }
    },
    {
      "cell_type": "code",
      "source": [
        "# Crear un array 1D\n",
        "array = np.array([1, 2, 3, 4])\n",
        "\n",
        "\n",
        "print(\"Operaciones elementales en 1D\")\n",
        "# Operaciones elementales\n",
        "print(array)\n",
        "print(\"Suma:\", array + 2)          # [3 4 5 6]\n",
        "print(\"Resta:\", array - 1)         # [0 1 2 3]\n",
        "print(\"Multiplicación:\", array * 3) # [3 6 9 12]\n",
        "print(\"División:\", array / 2)      # [0.5 1. 1.5 2.]\n",
        "print(\"Potencia:\", array ** 2)     # [1 4 9 16]\n",
        "\n",
        "\n",
        "print(\"Operaciones elementales en 2D\")\n",
        "print(array_2d)\n",
        "# Crear un array 2D\n",
        "array_2d = np.array([[1, 2, 3], [4, 5, 6]])\n",
        "\n",
        "# Suma\n",
        "suma_2d = array_2d + 10\n",
        "print(\"\\nSuma (+10):\\n\", suma_2d)\n",
        "# [[11 12 13]\n",
        "#  [14 15 16]]\n",
        "\n",
        "# Resta\n",
        "resta_2d = array_2d - 2\n",
        "print(\"Resta (-2):\\n\", resta_2d)\n",
        "# [[-1  0  1]\n",
        "#  [ 2  3  4]]\n",
        "\n",
        "# Multiplicación\n",
        "multiplicacion_2d = array_2d * 5\n",
        "print(\"Multiplicación (*5):\\n\", multiplicacion_2d)\n",
        "# [[ 5 10 15]\n",
        "#  [20 25 30]]\n",
        "\n",
        "# División\n",
        "division_2d = array_2d / 2\n",
        "print(\"División (/2):\\n\", division_2d)\n",
        "# [[0.5 1.  1.5]\n",
        "#  [2.  2.5 3. ]]\n",
        "\n",
        "# Potencia\n",
        "potencia_2d = array_2d ** 3\n",
        "print(\"Potencia (**3):\\n\", potencia_2d)\n",
        "# [[  1   8  27]\n",
        "#  [ 64 125 216]]\n",
        "\n",
        "print(\"Suma de vectores\")\n",
        "\n",
        "arr1 = np.array([1, 2, 3])\n",
        "print(arr1)\n",
        "\n",
        "arr2 = np.array([4, 5, 6])\n",
        "print(arr2)\n",
        "print(arr1 + arr2)\n",
        "\n",
        "print(arr1*arr2)\n",
        "\n",
        "print(arr1/arr2)\n",
        "\n",
        "print(arr1**arr2)\n"
      ],
      "metadata": {
        "colab": {
          "base_uri": "https://localhost:8080/"
        },
        "id": "TwUNEGdiBqGZ",
        "outputId": "6c406f0c-b3b0-416d-84fc-f63fe8d66c0c"
      },
      "execution_count": 21,
      "outputs": [
        {
          "output_type": "stream",
          "name": "stdout",
          "text": [
            "Operaciones elementales en 1D\n",
            "[1 2 3 4]\n",
            "Suma: [3 4 5 6]\n",
            "Resta: [0 1 2 3]\n",
            "Multiplicación: [ 3  6  9 12]\n",
            "División: [0.5 1.  1.5 2. ]\n",
            "Potencia: [ 1  4  9 16]\n",
            "Operaciones elementales en 2D\n",
            "[[1 2 3]\n",
            " [4 5 6]\n",
            " [7 8 9]]\n",
            "\n",
            "Suma (+10):\n",
            " [[11 12 13]\n",
            " [14 15 16]]\n",
            "Resta (-2):\n",
            " [[-1  0  1]\n",
            " [ 2  3  4]]\n",
            "Multiplicación (*5):\n",
            " [[ 5 10 15]\n",
            " [20 25 30]]\n",
            "División (/2):\n",
            " [[0.5 1.  1.5]\n",
            " [2.  2.5 3. ]]\n",
            "Potencia (**3):\n",
            " [[  1   8  27]\n",
            " [ 64 125 216]]\n",
            "Suma de vectores\n",
            "[1 2 3]\n",
            "[4 5 6]\n",
            "[5 7 9]\n",
            "[ 4 10 18]\n",
            "[0.25 0.4  0.5 ]\n",
            "[  1  32 729]\n"
          ]
        }
      ]
    },
    {
      "cell_type": "markdown",
      "source": [
        "## **Operaciones universales**\n",
        "\n",
        "Funciones matemáticas aplicadas a todos los elementos del array\n",
        "\n"
      ],
      "metadata": {
        "id": "ODc7gtpUCYVC"
      }
    },
    {
      "cell_type": "code",
      "source": [
        "# Funciones matemáticas\n",
        "print(\"1D\")\n",
        "print(\"Raíz cuadrada:\", np.sqrt(array)) # [1. 1.414 1.732 2.]\n",
        "print(\"Seno:\", np.sin(array))           # [0.841 0.909 0.141 -0.757]\n",
        "print(\"Logaritmo natural:\", np.log(array)) # [0. 0.693 1.098 1.386]\n",
        "\n",
        "\n",
        "# Funciones matemáticas 2d\n",
        "print(\"2D\")\n",
        "print(\"Raíz cuadrada:\", np.sqrt(array_2d)) # [1. 1.414 1.732 2.]\n",
        "print(\"Seno:\", np.sin(array_2d))           # [0.841 0.909 0.141 -0.757]\n",
        "print(\"Logaritmo natural:\", np.log(array_2d)) # [0. 0.693 1.098 1.386]\n",
        "\n"
      ],
      "metadata": {
        "colab": {
          "base_uri": "https://localhost:8080/"
        },
        "id": "Ua0ZiH59Ckvw",
        "outputId": "f92669a4-7ac0-4928-a083-3c23b548063c"
      },
      "execution_count": 22,
      "outputs": [
        {
          "output_type": "stream",
          "name": "stdout",
          "text": [
            "1D\n",
            "Raíz cuadrada: [1.         1.41421356 1.73205081 2.        ]\n",
            "Seno: [ 0.84147098  0.90929743  0.14112001 -0.7568025 ]\n",
            "Logaritmo natural: [0.         0.69314718 1.09861229 1.38629436]\n",
            "2D\n",
            "Raíz cuadrada: [[1.         1.41421356 1.73205081]\n",
            " [2.         2.23606798 2.44948974]]\n",
            "Seno: [[ 0.84147098  0.90929743  0.14112001]\n",
            " [-0.7568025  -0.95892427 -0.2794155 ]]\n",
            "Logaritmo natural: [[0.         0.69314718 1.09861229]\n",
            " [1.38629436 1.60943791 1.79175947]]\n"
          ]
        }
      ]
    },
    {
      "cell_type": "markdown",
      "source": [
        "## **Operaciones de Estadística**\n",
        "NumPy ofrece una variedad de funciones para calcular estadísticas básicas.\n",
        "\n"
      ],
      "metadata": {
        "id": "KwslZM5XC-cv"
      }
    },
    {
      "cell_type": "code",
      "source": [
        "# Estadísticas sobre un array 2D\n",
        "print(\"Suma total:\", np.sum(array_2d))           # 21\n",
        "print(\"Media:\", np.mean(array_2d))               # 3.5\n",
        "print(\"Mediana:\", np.median(array_2d))           # 3.5\n",
        "print(\"Desviación estándar:\", np.std(array_2d))  # 1.7078\n",
        "print(\"Máximo:\", np.max(array_2d))               # 6\n",
        "print(\"Mínimo:\", np.min(array_2d))               # 1\n"
      ],
      "metadata": {
        "colab": {
          "base_uri": "https://localhost:8080/"
        },
        "id": "ZBm7uH-EDGLw",
        "outputId": "f57ec052-37fb-467f-ae6d-3515785bb5fe"
      },
      "execution_count": 23,
      "outputs": [
        {
          "output_type": "stream",
          "name": "stdout",
          "text": [
            "Suma total: 21\n",
            "Media: 3.5\n",
            "Mediana: 3.5\n",
            "Desviación estándar: 1.707825127659933\n",
            "Máximo: 6\n",
            "Mínimo: 1\n"
          ]
        }
      ]
    },
    {
      "cell_type": "markdown",
      "source": [
        "## **Operaciones Lógicas**\n",
        "Puedes realizar comparaciones y operaciones lógicas: >, <, etc."
      ],
      "metadata": {
        "id": "WGCWPSiyDgyC"
      }
    },
    {
      "cell_type": "code",
      "source": [
        "# Comparaciones\n",
        "print(array)\n",
        "print(\"Mayor que 2:\", array > 2) # [False False True True]\n",
        "\n",
        "# Selección condicional\n",
        "print(\"Valores mayores a 2:\", array[array > 2]) # [3 4]\n",
        "\n",
        "print(\"Mayor que 2:\", array_2d > 2) # [False False True True]"
      ],
      "metadata": {
        "colab": {
          "base_uri": "https://localhost:8080/"
        },
        "id": "_DTMC2IRDpEN",
        "outputId": "39cebbd6-3388-4f5b-831f-7770e24de0cd"
      },
      "execution_count": 24,
      "outputs": [
        {
          "output_type": "stream",
          "name": "stdout",
          "text": [
            "[1 2 3 4]\n",
            "Mayor que 2: [False False  True  True]\n",
            "Valores mayores a 2: [3 4]\n",
            "Mayor que 2: [[False False  True]\n",
            " [ True  True  True]]\n"
          ]
        }
      ]
    },
    {
      "cell_type": "markdown",
      "source": [
        "## **Operaciones de Álgebra Lineal**\n",
        "NumPy tiene un submódulo linalg para álgebra lineal.\n",
        "\n"
      ],
      "metadata": {
        "id": "qnoZhK7gFYWU"
      }
    },
    {
      "cell_type": "code",
      "source": [
        "# Crear matrices\n",
        "A = np.array([[1, 2], [3, 4]])\n",
        "B = np.array([[5, 6], [7, 8]])\n",
        "\n",
        "# Producto matricial\n",
        "print(\"Producto matricial:\\n\", np.dot(A, B))\n",
        "\n",
        "# Determinante\n",
        "print(\"Determinante de A:\", np.linalg.det(A))\n",
        "\n",
        "# Inversa de A\n",
        "print(\"Inversa de A:\\n\", np.linalg.inv(A))\n"
      ],
      "metadata": {
        "colab": {
          "base_uri": "https://localhost:8080/"
        },
        "id": "m-0TJ7yWFXwK",
        "outputId": "86263710-891f-46cf-852a-ae95a7aab7f1"
      },
      "execution_count": 25,
      "outputs": [
        {
          "output_type": "stream",
          "name": "stdout",
          "text": [
            "Producto matricial:\n",
            " [[19 22]\n",
            " [43 50]]\n",
            "Determinante de A: -2.0000000000000004\n",
            "Inversa de A:\n",
            " [[-2.   1. ]\n",
            " [ 1.5 -0.5]]\n"
          ]
        }
      ]
    },
    {
      "cell_type": "markdown",
      "source": [
        "## **Manipulación de Arrays**\n",
        "Incluye operaciones como cambiar la forma, transponer, concatenar y dividir.\n",
        "\n"
      ],
      "metadata": {
        "id": "ym-j0sK2FozF"
      }
    },
    {
      "cell_type": "code",
      "source": [
        "# Crear un array\n",
        "print(\"original\")\n",
        "print(array)\n",
        "array = np.array([[1, 2], [3, 4], [5, 6]])\n",
        "\n",
        "# Transponer\n",
        "print(\"Transpuesta:\\n\", array.T)\n",
        "\n",
        "# Cambiar la forma\n",
        "print(\"Reformado (2x3):\\n\", array.reshape(2, 3))\n",
        "\n",
        "# Concatenación\n",
        "arr1 = np.array([1, 2, 3, 4, 5])\n",
        "arr2 = np.array([6, 7, 8, 9, 10])\n",
        "print(\"Concatenación horizontal:\", np.concatenate((arr1, arr2)))\n",
        "print(\"Apilamiento vertical:\", np.vstack((arr1, arr2)))\n"
      ],
      "metadata": {
        "colab": {
          "base_uri": "https://localhost:8080/"
        },
        "id": "O7ZYnap-FvuP",
        "outputId": "3ed6c05a-a2d4-4418-c825-e5b2d2434386"
      },
      "execution_count": 29,
      "outputs": [
        {
          "output_type": "stream",
          "name": "stdout",
          "text": [
            "original\n",
            "[[1 2]\n",
            " [3 4]\n",
            " [5 6]]\n",
            "Transpuesta:\n",
            " [[1 3 5]\n",
            " [2 4 6]]\n",
            "Reformado (2x3):\n",
            " [[1 2 3]\n",
            " [4 5 6]]\n",
            "Concatenación horizontal: [ 1  2  3  4  5  6  7  8  9 10]\n",
            "Apilamiento vertical: [[ 1  2  3  4  5]\n",
            " [ 6  7  8  9 10]]\n"
          ]
        }
      ]
    },
    {
      "cell_type": "markdown",
      "source": [
        "## Suma acumulativa y producto acumulativo\n",
        "\n",
        " Crea un arreglo y calcula la suma y el producto acumulado de elementos de un vector o matriz"
      ],
      "metadata": {
        "id": "lKZsXr4zlGQY"
      }
    },
    {
      "cell_type": "code",
      "source": [
        "arr = np.array([1, 2, 3, 4])\n",
        "print(\"Suma acumulativa:\", np.cumsum(arr))\n",
        "print(\"Producto acumulativo:\", np.cumprod(arr))\n"
      ],
      "metadata": {
        "colab": {
          "base_uri": "https://localhost:8080/"
        },
        "id": "Rmyrn14XlW-U",
        "outputId": "b218ac70-f124-4550-c2f9-5c738f607369"
      },
      "execution_count": 32,
      "outputs": [
        {
          "output_type": "stream",
          "name": "stdout",
          "text": [
            "Suma acumulativa: [ 1  3  6 10]\n",
            "Producto acumulativo: [ 1  2  6 24]\n"
          ]
        }
      ]
    },
    {
      "cell_type": "markdown",
      "source": [
        "## **Manejo de Valores NaN (Not a Number)**\n",
        "\n",
        "Se pueden localizar en un array los valores NaN"
      ],
      "metadata": {
        "id": "PaFS0IlgmSI8"
      }
    },
    {
      "cell_type": "code",
      "source": [
        "arr = np.array([1, 2, np.nan, 4, np.nan])\n",
        "print(\"Original con NaN:\", arr)\n",
        "arr[np.isnan(arr)] = 0\n",
        "print(\"Sin NaN:\", arr)"
      ],
      "metadata": {
        "colab": {
          "base_uri": "https://localhost:8080/"
        },
        "id": "Hw55P2T6mRwF",
        "outputId": "45b9832a-34dd-467f-e960-c8a35aa4adc0"
      },
      "execution_count": 33,
      "outputs": [
        {
          "output_type": "stream",
          "name": "stdout",
          "text": [
            "Original con NaN: [ 1.  2. nan  4. nan]\n",
            "Sin NaN: [1. 2. 0. 4. 0.]\n"
          ]
        }
      ]
    },
    {
      "cell_type": "markdown",
      "source": [
        "## **Extraer Valores Únicos de un Arreglo**\n",
        "\n",
        "np.unique permite extrar los elementos únicos de un arreglo"
      ],
      "metadata": {
        "id": "K5ZX3mI8mrvK"
      }
    },
    {
      "cell_type": "code",
      "source": [
        "arr = np.array([1, 2, 2, 3, 4, 4, 5])\n",
        "print(\"Elementos únicos:\", np.unique(arr))\n"
      ],
      "metadata": {
        "colab": {
          "base_uri": "https://localhost:8080/"
        },
        "id": "g5RZ0AFkm6za",
        "outputId": "e36e05b0-e80b-4047-b165-ff543bbf965f"
      },
      "execution_count": 34,
      "outputs": [
        {
          "output_type": "stream",
          "name": "stdout",
          "text": [
            "Elementos únicos: [1 2 3 4 5]\n"
          ]
        }
      ]
    },
    {
      "cell_type": "markdown",
      "source": [
        "## **Importar de Datos de Texto I/O**\n",
        "\n",
        "Aunque por lo general, se trabaja sobre datos directos, Python tiene un par de funciones para que se utilizan para cargar datos desde un archivo de texto (como CSV, TSV, etc.) en un array de NumPy.\n",
        "\n",
        "*   numpy.loadtxt: Puede leer archivos delimitados por comas, espacios, tabuladores, etc. Todos los datos deben ser del mismo tipo (enteros, flotantes, etc.). Soporta parámetros como dtype (tipo de datos), delimiter (delimitador), skiprows (líneas a omitir) y más.\n",
        "\n",
        "*    numpy.genfromtxt se utiliza para cargar datos desde un archivo de texto (como CSV, TSV, etc.) en un array de NumPy. Es más flexible que np.loadtxt porque maneja valores faltantes, admite múltiples delimitadores y permite leer datos heterogéneos.\n",
        "\n",
        "\n",
        "\n",
        "\n",
        "```Python\n",
        "numpy.loadtxt(fname, dtype=<tipo>, delimiter=None, skiprows=0, usecols=None, unpack=False)\n",
        "```\n",
        "\n",
        "* fname: Ruta del archivo de texto (puede ser una cadena o un objeto tipo archivo).\n",
        "* dtype: Tipo de datos del array (por defecto, float).\n",
        "* delimiter: Carácter separador entre columnas (por ejemplo, , o \\t).\n",
        "* skiprows: Número de líneas a omitir al inicio.\n",
        "* usecols: Especifica qué columnas cargar.\n",
        "* unpack: Si es True, devuelve las columnas como arrays separados.\n",
        "\n",
        "Instrucciones: Descarga de Teams en Sesion02-Sincrona>Datos los tres archivos csv y guárdalos en  drive/MyDrive/ClassFiles\n"
      ],
      "metadata": {
        "id": "uYjJKjYSJNRY"
      }
    },
    {
      "cell_type": "code",
      "source": [
        "# Leer archivo CSV\n",
        "#Como el archivo tiene un encabezado usamos skiprows=1\n",
        "data = np.loadtxt('/content/drive/MyDrive/ClassFiles/data.csv', delimiter=',',skiprows=1)\n",
        "print(\"Datos cargados:\\n\", data)"
      ],
      "metadata": {
        "id": "O5Tbp7hCM4eC",
        "colab": {
          "base_uri": "https://localhost:8080/"
        },
        "outputId": "59c045cd-9436-4296-aeba-293080278cb9"
      },
      "execution_count": 30,
      "outputs": [
        {
          "output_type": "stream",
          "name": "stdout",
          "text": [
            "Datos cargados:\n",
            " [[1. 2. 3.]\n",
            " [4. 5. 6.]\n",
            " [7. 8. 9.]]\n"
          ]
        }
      ]
    },
    {
      "cell_type": "code",
      "source": [
        "import numpy as np\n",
        "\n",
        "data = np.genfromtxt(\n",
        "    '/content/drive/MyDrive/ClassFiles/example_data.csv', delimiter=';',\n",
        "    names=True, dtype=None, encoding='UTF'\n",
        ")\n",
        "\n",
        "print(data)\n",
        "type(data)"
      ],
      "metadata": {
        "colab": {
          "base_uri": "https://localhost:8080/"
        },
        "id": "suTHmqOPOqtL",
        "outputId": "d0927920-8ec5-407d-871d-73a195d1a2bd"
      },
      "execution_count": 31,
      "outputs": [
        {
          "output_type": "stream",
          "name": "stdout",
          "text": [
            "[('2018-10-13 11:10:23.560', '262km NW of Ozernovskiy, Russia', 'mww', 6.7, 'green', 1)\n",
            " ('2018-10-13 04:34:15.580', '25km E of Bitung, Indonesia', 'mww', 5.2, 'green', 0)\n",
            " ('2018-10-13 00:13:46.220', '42km WNW of Sola, Vanuatu', 'mww', 5.7, 'green', 0)\n",
            " ('2018-10-12 21:09:49.240', '13km E of Nueva Concepcion, Guatemala', 'mww', 5.7, 'green', 0)\n",
            " ('2018-10-12 02:52:03.620', '128km SE of Kimbe, Papua New Guinea', 'mww', 5.6, 'green', 1)]\n"
          ]
        },
        {
          "output_type": "execute_result",
          "data": {
            "text/plain": [
              "numpy.ndarray"
            ]
          },
          "metadata": {},
          "execution_count": 31
        }
      ]
    }
  ]
}
{
  "nbformat": 4,
  "nbformat_minor": 0,
  "metadata": {
    "colab": {
      "provenance": [],
      "toc_visible": true
    },
    "kernelspec": {
      "name": "python3",
      "display_name": "Python 3"
    },
    "language_info": {
      "name": "python"
    }
  },
  "cells": [
    {
      "cell_type": "markdown",
      "source": [
        "#**Limpieza y Transformacion de Datos: Duplicados**\n",
        "\n",
        "\n",
        "---\n",
        "Tema: Limpieza y Transformacion de Datos: Duplicados\n",
        "\n",
        "Unidad: 02 Análisis Descriptivo de los Datos\n",
        "\n",
        "Materia: Programación para Analítica Descriptiva y Predictiva\n",
        "\n",
        "Maestría en Inteligencia Artificial y Analítica de Datos\n",
        "\n",
        "---\n",
        "\n",
        "## Objetivo\n",
        "\n",
        "Comprender la problemática de los datos duplicados, su impacto en el análisis de datos y aprender a detectarlos y tratarlos con pandas.\n",
        "\n",
        "Las temas de esta sesión son:\n",
        "\n",
        "\n",
        "\n",
        "*   Introducción a Datos Duplicados\n",
        "* Función de Pandas `.duplicated()`\n",
        "*   Detección de Datos Duplicados\n",
        "* Tratamiento de Datos Duplicados\n",
        "  * Eliminación de Datos Duplicados\n",
        "  * Manejo Avanzado de Datos Duplicados\n",
        "\n",
        "\n"
      ],
      "metadata": {
        "id": "bTrS2pVK2b7v"
      }
    },
    {
      "cell_type": "markdown",
      "source": [
        "## **Introducción a Datos Duplicados**\n",
        "\n",
        "Los datos duplicados son registros repetidos en un conjunto de datos. Pueden ser duplicaciones exactas/idénticas (varios registros en todas sus columnas tienen el mismo valor) o parciales (coincidencia en ciertas columnas clave). Estos pueden generarse debido a errores en la recolección, integración o procesamiento de datos.\n",
        "\n",
        "**Ejemplo de Datos Duplicados**\n",
        "\n",
        "\\begin{array}{ccc}\n",
        "\\text{ID}&\\text{Nombre}&\\text{Edad}\\\\\n",
        "1\t&Ana&\t25\\\\\n",
        "2&\tJuan&\t30\\\\\n",
        "3&\tLuis&\t35\\\\\n",
        "4&\tSara&\t40\\\\\n",
        "1&\tAna\t&25\\\\\n",
        "2 &  Juan  &  30\\\\\n",
        "2  & Juan  &  30\\\\\n",
        "1 & Vicente & 48\\\\\n",
        "3 & Rogelio & 40\n",
        "\\end{array}\n",
        "\n",
        "En la tabla anterior, los registros idénticos (duplicidad exacta) son: [1,Ana,25] y [2, Juan, 30]. En el caso de la duplicidad parcial, dependerá de las columnas elegidas. Por columna: ID con valores 1, 2,y 3; Nombre con Ana y  Juan; y finalmente en Edad con los valores 25, 30 y 40.\n",
        "\n",
        "---\n",
        "\n",
        "\n",
        "### Problemas que generan en el análisis descriptivo y exploratorio\n",
        "\n",
        "1. **Distorsión de métricas**: Los duplicados pueden inflar conteos, promedios y frecuencias, sesgando la interpretación de los datos.\n",
        "2. **Errores en modelos predictivos**: Los algoritmos de aprendizaje automático pueden aprender patrones incorrectos al usar varias veces los mismos datos. El uso de datos similares puede generar lo que se llama un **sobreajuste** u **overfitting**.\n",
        "3. **Falsas correlaciones**: Al duplicarse registros, las relaciones entre variables pueden parecer más fuertes de lo que realmente son.\n",
        "4. **Aumento del costo computacional**: Un conjunto de datos con duplicados ocupa más memoria y ralentiza los procesos de análisis y modelado.\n",
        "\n",
        "---\n",
        "\n",
        "En el siguiente ejemplo veremos el caso de un `dataframe` con datos duplicados. Vamos a imprimir la media del salario.\n",
        "\n",
        "\n",
        "\n"
      ],
      "metadata": {
        "id": "Z8WxzIkj3E7_"
      }
    },
    {
      "cell_type": "code",
      "source": [
        "import pandas as pd\n",
        "\n",
        "# Crear un DataFrame con múltiples duplicados\n",
        "data = {\n",
        "    'ID': [1, 2, 3, 4, 1, 2, 2, 3, 5, 6, 7, 3, 5, 7, 1, 2],\n",
        "    'Nombre': ['Ana', 'Juan', 'Luis', 'Sara', 'Ana', 'Juan', 'Juan', 'Luis', 'Carlos', 'Elena', 'Mario', 'Luis', 'Carlos', 'Mario', 'Ana', 'Juan'],\n",
        "    'Edad': [25, 30, 35, 40, 25, 30, 30, 35, 28, 32, 29, 35, 28, 29, 25, 30],\n",
        "    'Salario': [50000, 60000, 55000, 70000, 50000, 60000, 60000, 55000, 48000, 51000, 53000, 55000, 48000, 53000, 50000, 60000]\n",
        "}\n",
        "\n",
        "# Convertir en DataFrame\n",
        "df= pd.DataFrame(data)\n",
        "\n",
        "# Mostrar el DataFrame\n",
        "print(df)\n",
        "\n",
        "print('\\nLa media del salario es con duplicados es ',df['Salario'].mean())"
      ],
      "metadata": {
        "colab": {
          "base_uri": "https://localhost:8080/"
        },
        "id": "MUzW4iKN8G6X",
        "outputId": "35c040fb-de3e-42ba-d729-696f10ab108a"
      },
      "execution_count": 3,
      "outputs": [
        {
          "output_type": "stream",
          "name": "stdout",
          "text": [
            "    ID  Nombre  Edad  Salario\n",
            "0    1     Ana    25    50000\n",
            "1    2    Juan    30    60000\n",
            "2    3    Luis    35    55000\n",
            "3    4    Sara    40    70000\n",
            "4    1     Ana    25    50000\n",
            "5    2    Juan    30    60000\n",
            "6    2    Juan    30    60000\n",
            "7    3    Luis    35    55000\n",
            "8    5  Carlos    28    48000\n",
            "9    6   Elena    32    51000\n",
            "10   7   Mario    29    53000\n",
            "11   3    Luis    35    55000\n",
            "12   5  Carlos    28    48000\n",
            "13   7   Mario    29    53000\n",
            "14   1     Ana    25    50000\n",
            "15   2    Juan    30    60000\n",
            "\n",
            "La media del salario es con duplicados es  54875.0\n"
          ]
        }
      ]
    },
    {
      "cell_type": "markdown",
      "source": [
        "Si miramos los duplicados de la columna ID, encontramos que los valores 1, 2, 3 y 5 presentan valores repetidos. Vamos a ver cómo afecta a la media del salario si quitamos los repetidos y solo dejamos una coincidencia de cada uno de registros. Observa lo que pasa cuando quitamos los duplicados. La media del salario no coincide."
      ],
      "metadata": {
        "id": "bRUg2MMsMpBK"
      }
    },
    {
      "cell_type": "code",
      "source": [
        "data2 = {\n",
        "    'ID': [1, 2, 3, 4, 5, 6, 7],\n",
        "    'Nombre': ['Ana', 'Juan', 'Luis', 'Sara', 'Carlos', 'Elena', 'Mario'],\n",
        "    'Edad': [25, 30, 35, 40, 28, 32, 29],\n",
        "    'Salario': [50000, 60000, 55000, 70000, 48000, 51000, 53000]\n",
        "}\n",
        "\n",
        "# Convertir en DataFrame\n",
        "dfND = pd.DataFrame(data2)\n",
        "\n",
        "# Mostrar el DataFrame\n",
        "print(dfND)\n",
        "\n",
        "print('\\nLa media del salario es sin duplicados es ',dfND['Salario'].mean())"
      ],
      "metadata": {
        "colab": {
          "base_uri": "https://localhost:8080/"
        },
        "id": "Wn14_IwnNxPR",
        "outputId": "50d7a54c-5b69-41a2-8132-64138dbeda2e"
      },
      "execution_count": 4,
      "outputs": [
        {
          "output_type": "stream",
          "name": "stdout",
          "text": [
            "   ID  Nombre  Edad  Salario\n",
            "0   1     Ana    25    50000\n",
            "1   2    Juan    30    60000\n",
            "2   3    Luis    35    55000\n",
            "3   4    Sara    40    70000\n",
            "4   5  Carlos    28    48000\n",
            "5   6   Elena    32    51000\n",
            "6   7   Mario    29    53000\n",
            "\n",
            "La media del salario es sin duplicados es  55285.71428571428\n"
          ]
        }
      ]
    },
    {
      "cell_type": "markdown",
      "source": [
        "Es importante mencionar que en esta primera parte de limpieza de datos, el concepto de datos idénticos que adoptaremos será en términos de sus valores. Esto debido a que en modelos predictivos este concepto puede variar un poco, en donde, la similitud entre dos datos puede estar determinada por una métrica de distancia o por si el modelo es capaz de reconocer su etiqueta. Por ejemplo, en aprendizaje activo (active learning), si el clasificador puede predecir la etiqueta de un ejemplo, entonces este no formará parte del proceso de aprendizaje.\n"
      ],
      "metadata": {
        "id": "huVmjthbRPlh"
      }
    },
    {
      "cell_type": "markdown",
      "source": [
        "## Función en Pandas para Identificar y Manejar Duplicados `.duplicated()`\n",
        "\n",
        "\n",
        "`.duplicated()` es una función poderosa en *Pandas* que permite identificar y manejar duplicados de manera flexible. Se puede aplicar a todo el `Dataframe` (duplicidad exacta) o a columnas específicas (duplicidad parcial). Esta función retorna una serie booleana donde:\n",
        "\n",
        "* `False` indica que la fila no está duplicada (o es la primera aparición).\n",
        "* `True` indica que la fila es un duplicado (es decir, ya apareció antes en el `DataFrame`).\n",
        "\n",
        "La sintaxis básica es:\n",
        "\n",
        "```python\n",
        "df.duplicated(subset=None, keep='first')\n",
        "```\n",
        "donde,\n",
        "\n",
        "* `subset` es opcional y recibe una lista con los nombres de las columnas en las que se buscarán los duplicados\n",
        "* `keep` es opcional y define qué ocurrencias de los duplicados se marcan como `True`."
      ],
      "metadata": {
        "id": "CfD0uwI1_ecl"
      }
    },
    {
      "cell_type": "markdown",
      "source": [
        "## Duplicidad Exacta: `.duplicated()` con `keep`\n",
        "\n",
        "Vamos a usar diferentes valores que puede tomar el párametro `keep` para distinguir qué duplicados se marcan como `True`:\n",
        ":\n",
        "  * `'first'` (por defecto): Marca como `True` todas las filas duplicadas *excepto la primera coincidencia*\n",
        "  * `'last'`: Marca todas las filas duplicadas como `True` *excepto la última coincidencia*\n",
        "  * `False`: Marca *todas* las filas duplicadas, incluida la primera\n",
        "\n",
        "Veamos un ejemplo sencillo donde la detección se hace de forma exacta, es decir, en todo el `Dataframe`.\n"
      ],
      "metadata": {
        "id": "T6qNhzrBIQ2c"
      }
    },
    {
      "cell_type": "code",
      "execution_count": 49,
      "metadata": {
        "id": "fRAe6WYltqTQ",
        "colab": {
          "base_uri": "https://localhost:8080/"
        },
        "outputId": "18a2a103-3ef6-44ba-dc2c-af9d0ebf2962"
      },
      "outputs": [
        {
          "output_type": "stream",
          "name": "stdout",
          "text": [
            "Imprime el Dataframe original\n",
            "    ID  Nombre  Edad  Salario\n",
            "0    1     Ana    25    50000\n",
            "1    2    Juan    30    60000\n",
            "2    3    Luis    35    55000\n",
            "3    4    Sara    40    70000\n",
            "4    1     Ana    25    50000\n",
            "5    2    Juan    30    60000\n",
            "6    2    Juan    30    60000\n",
            "7    3    Luis    35    55000\n",
            "8    5  Carlos    28    48000\n",
            "9    6   Elena    32    51000\n",
            "10   7   Mario    29    53000\n",
            "11   3    Luis    35    55000\n",
            "12   5  Carlos    28    48000\n",
            "13   7   Mario    29    53000\n",
            "14   1     Ana    25    50000\n",
            "15   2    Juan    30    60000\n",
            "\n",
            " Marca como True las filas en donde la coincidencia es total excepto la primera coincidencia\n",
            "0     False\n",
            "1     False\n",
            "2     False\n",
            "3     False\n",
            "4      True\n",
            "5      True\n",
            "6      True\n",
            "7      True\n",
            "8     False\n",
            "9     False\n",
            "10    False\n",
            "11     True\n",
            "12     True\n",
            "13     True\n",
            "14     True\n",
            "15     True\n",
            "dtype: bool\n",
            "\n",
            " Similar al anterior. Marca como True todas las filas duplicadas excepto la primera coincidencia\n",
            "0     False\n",
            "1     False\n",
            "2     False\n",
            "3     False\n",
            "4      True\n",
            "5      True\n",
            "6      True\n",
            "7      True\n",
            "8     False\n",
            "9     False\n",
            "10    False\n",
            "11     True\n",
            "12     True\n",
            "13     True\n",
            "14     True\n",
            "15     True\n",
            "dtype: bool\n",
            "\n",
            " Marca como True todas las filas duplicadas excepto la última coincidencia\n",
            "0      True\n",
            "1      True\n",
            "2      True\n",
            "3     False\n",
            "4      True\n",
            "5      True\n",
            "6      True\n",
            "7      True\n",
            "8      True\n",
            "9     False\n",
            "10     True\n",
            "11    False\n",
            "12    False\n",
            "13    False\n",
            "14    False\n",
            "15    False\n",
            "dtype: bool\n",
            "\n",
            " Marca como True todas las filas duplicadas incluida la primera\n",
            "0      True\n",
            "1      True\n",
            "2      True\n",
            "3     False\n",
            "4      True\n",
            "5      True\n",
            "6      True\n",
            "7      True\n",
            "8      True\n",
            "9     False\n",
            "10     True\n",
            "11     True\n",
            "12     True\n",
            "13     True\n",
            "14     True\n",
            "15     True\n",
            "dtype: bool\n"
          ]
        }
      ],
      "source": [
        "import pandas as pd\n",
        "\n",
        "\n",
        "print('Imprime el Dataframe original')\n",
        "print(df)\n",
        "# Identificar todas filas duplicadas\n",
        "#Observa que no imprime True en la en la Fila 0, ya que por defecto es first'\n",
        "print('\\n Marca como True las filas en donde la coincidencia es total excepto la primera coincidencia')\n",
        "print(df.duplicated())\n",
        "\n",
        "#\n",
        "print('\\n Similar al anterior. Marca como True todas las filas duplicadas excepto la primera coincidencia')\n",
        "print(df.duplicated(keep='first'))\n",
        "\n",
        "\n",
        "print('\\n Marca como True todas las filas duplicadas excepto la última coincidencia')\n",
        "print(df.duplicated(keep='last'))\n",
        "\n",
        "print('\\n Marca como True todas las filas duplicadas incluida la primera')\n",
        "print(df.duplicated(keep=False))\n",
        "\n"
      ]
    },
    {
      "cell_type": "markdown",
      "source": [
        "## Duplicidad Parcial: `.duplicated()` con `subset`\n",
        "\n",
        "El parámetro `subset` en  permite especificar qué columnas se deben considerar al detectar duplicados. Esto es útil cuando queremos identificar valores exactos en algunas columnas específicas en lugar de comparar todas las columnas del `DataFrame`.\n",
        "\n",
        "La sintaxis básica es:\n",
        "\n",
        "```python\n",
        "df.duplicated(subset=['columna1', 'columna2'])\n",
        "```\n",
        "Adicionalmente se puede usar en combinación con `keep`.\n",
        "\n"
      ],
      "metadata": {
        "id": "uKOruuwUrKge"
      }
    },
    {
      "cell_type": "code",
      "source": [
        "# Detectar duplicados en la columna 'ID'\n",
        "print('\\n Detectar duplicados en la columna ID')\n",
        "print(df.duplicated(subset=['ID'], keep='first'))\n",
        "\n",
        "# Detectar duplicados en las columnas 'Nombre'\n",
        "print('\\n Detectar duplicados en la columna Nombre. No se marca la última aparición')\n",
        "print(df.duplicated(subset=['Nombre'], keep='last'))\n",
        "\n",
        "# Detectar duplicados en las columnas 'Nombre y Edad'\n",
        "print('\\n Detectar duplicados en las columnas Nombre y Edad. Marca todas las filas incluida la primera')\n",
        "print(df.duplicated(subset=['Nombre', 'Edad'], keep=False))\n"
      ],
      "metadata": {
        "colab": {
          "base_uri": "https://localhost:8080/"
        },
        "id": "kVZKRsYy2Dn2",
        "outputId": "4b335f6d-020f-4397-8cab-a54fe8d76c73"
      },
      "execution_count": 50,
      "outputs": [
        {
          "output_type": "stream",
          "name": "stdout",
          "text": [
            "\n",
            " Detectar duplicados en la columna ID\n",
            "0     False\n",
            "1     False\n",
            "2     False\n",
            "3     False\n",
            "4      True\n",
            "5      True\n",
            "6      True\n",
            "7      True\n",
            "8     False\n",
            "9     False\n",
            "10    False\n",
            "11     True\n",
            "12     True\n",
            "13     True\n",
            "14     True\n",
            "15     True\n",
            "dtype: bool\n",
            "\n",
            " Detectar duplicados en la columna Nombre. No se marca la última aparición\n",
            "0      True\n",
            "1      True\n",
            "2      True\n",
            "3     False\n",
            "4      True\n",
            "5      True\n",
            "6      True\n",
            "7      True\n",
            "8      True\n",
            "9     False\n",
            "10     True\n",
            "11    False\n",
            "12    False\n",
            "13    False\n",
            "14    False\n",
            "15    False\n",
            "dtype: bool\n",
            "\n",
            " Detectar duplicados en las columnas Nombre y Edad. Marca todas las filas incluida la primera\n",
            "0      True\n",
            "1      True\n",
            "2      True\n",
            "3     False\n",
            "4      True\n",
            "5      True\n",
            "6      True\n",
            "7      True\n",
            "8      True\n",
            "9     False\n",
            "10     True\n",
            "11     True\n",
            "12     True\n",
            "13     True\n",
            "14     True\n",
            "15     True\n",
            "dtype: bool\n"
          ]
        }
      ]
    },
    {
      "cell_type": "markdown",
      "source": [
        "## Contar el número total de registros duplicados y las veces que se repite cada valor\n",
        "\n",
        "La forma más sencilla es usando `.sum()`, la cual, cuando se agrega a `.duplicated()` (devuelve una serie booleana) cuenta cuántos valores `True` hay en la serie, lo que nos da el número total de registros duplicados."
      ],
      "metadata": {
        "id": "trQHojjF3bLx"
      }
    },
    {
      "cell_type": "code",
      "source": [
        "# Contar filas duplicadas en todo el DataFrame\n",
        "num_duplicados = df.duplicated().sum()\n",
        "print(f\"Número total de registros duplicados sin tener en cuenta la primera aparación: {num_duplicados}\")\n",
        "\n",
        "num_duplicados = df.duplicated(keep='last').sum()\n",
        "print(f\"Número total de registros duplicados sin tener en cuenta la última aparación: {num_duplicados}\")\n",
        "\n",
        "num_duplicados = df.duplicated(keep=False).sum()\n",
        "print(f\"Número total de registros duplicados tiene en cuenta todas las apariciones incluyendo la primera: {num_duplicados}\")"
      ],
      "metadata": {
        "colab": {
          "base_uri": "https://localhost:8080/"
        },
        "id": "uE2aE7S_4gQd",
        "outputId": "8d1b6c93-cdb2-48a0-9624-16e0979c813c"
      },
      "execution_count": 5,
      "outputs": [
        {
          "output_type": "stream",
          "name": "stdout",
          "text": [
            "Número total de registros duplicados sin tener en cuenta la primera aparación: 9\n",
            "Número total de registros duplicados sin tener en cuenta la última aparación: 9\n",
            "Número total de registros duplicados tiene en cuenta todas las apariciones incluyendo la primera: 14\n"
          ]
        }
      ]
    },
    {
      "cell_type": "markdown",
      "source": [
        "Podemos contar duplicados considerando solo una columna o múltiples."
      ],
      "metadata": {
        "id": "GbrV7E87_Zvn"
      }
    },
    {
      "cell_type": "code",
      "source": [
        "num_duplicados_id = df.duplicated(subset=['ID'], keep=False).sum()\n",
        "print(f\"Número Total de registros con ID duplicado (todas las apariciones): {num_duplicados_id}\")\n",
        "\n",
        "num_duplicados_multi = df.duplicated(subset=['Nombre', 'Edad'], keep=False).sum()\n",
        "print(f\"Número Total de registros duplicados considerando Nombre y Edad (todas las apariciones y se repiten juntos): {num_duplicados_multi}\")\n"
      ],
      "metadata": {
        "colab": {
          "base_uri": "https://localhost:8080/"
        },
        "id": "By5Lf3tABvST",
        "outputId": "4410c3d0-5670-431d-c1fd-1f25de208d1a"
      },
      "execution_count": 52,
      "outputs": [
        {
          "output_type": "stream",
          "name": "stdout",
          "text": [
            "Número Total de registros con ID duplicado (todas las apariciones): 14\n",
            "Número Total de registros duplicados considerando Nombre y Edad (todas las apariciones y se repiten juntos): 14\n"
          ]
        }
      ]
    },
    {
      "cell_type": "markdown",
      "source": [
        "Si deseamos contar los valores que se repiten más de una vez, usamos la función vista en otra clase `value_counts()`."
      ],
      "metadata": {
        "id": "F1iP-JPYFNXq"
      }
    },
    {
      "cell_type": "code",
      "source": [
        "conteo_duplicados = df.value_counts()\n",
        "print(\"Todos los valores únicos y sus respectivas cantidades en todas las Columnas\")\n",
        "print(conteo_duplicados)\n",
        "conteo_duplicados = df['Nombre'].value_counts()\n",
        "print(\"Todos los valores únicos y sus respectivas cantidades en la columna Nombre\")\n",
        "print(conteo_duplicados)\n",
        "print(\"Valores únicos que se repiten más de una vez\")\n",
        "print(conteo_duplicados[conteo_duplicados > 1])\n",
        "\n"
      ],
      "metadata": {
        "colab": {
          "base_uri": "https://localhost:8080/"
        },
        "id": "uhaHQhUyPmYM",
        "outputId": "75dc139e-1cca-4772-e9d0-419709c9e19f"
      },
      "execution_count": 53,
      "outputs": [
        {
          "output_type": "stream",
          "name": "stdout",
          "text": [
            "Todos los valores únicos y sus respectivas cantidades en todas las Columnas\n",
            "ID  Nombre  Edad  Salario\n",
            "2   Juan    30    60000      4\n",
            "1   Ana     25    50000      3\n",
            "3   Luis    35    55000      3\n",
            "5   Carlos  28    48000      2\n",
            "7   Mario   29    53000      2\n",
            "4   Sara    40    70000      1\n",
            "6   Elena   32    51000      1\n",
            "Name: count, dtype: int64\n",
            "Todos los valores únicos y sus respectivas cantidades en la columna Nombre\n",
            "Nombre\n",
            "Juan      4\n",
            "Ana       3\n",
            "Luis      3\n",
            "Carlos    2\n",
            "Mario     2\n",
            "Sara      1\n",
            "Elena     1\n",
            "Name: count, dtype: int64\n",
            "Valores únicos que se repiten más de una vez\n",
            "Nombre\n",
            "Juan      4\n",
            "Ana       3\n",
            "Luis      3\n",
            "Carlos    2\n",
            "Mario     2\n",
            "Name: count, dtype: int64\n"
          ]
        }
      ]
    },
    {
      "cell_type": "markdown",
      "source": [
        "Si queremos obtener proporciones en lugar de conteos, podemos usar `normalize=True`"
      ],
      "metadata": {
        "id": "FLX8PbKoQaTf"
      }
    },
    {
      "cell_type": "code",
      "source": [
        "conteo_duplicados = df['ID'].value_counts(normalize=True)\n",
        "\n",
        "print(\"Proporción de valores duplicados\")\n",
        "print(conteo_duplicados)"
      ],
      "metadata": {
        "colab": {
          "base_uri": "https://localhost:8080/"
        },
        "id": "HdaywF-8Qi_b",
        "outputId": "177f08cb-6268-478a-e5ac-72deeb0a6c74"
      },
      "execution_count": 54,
      "outputs": [
        {
          "output_type": "stream",
          "name": "stdout",
          "text": [
            "Proporción de valores duplicados\n",
            "ID\n",
            "2    0.2500\n",
            "1    0.1875\n",
            "3    0.1875\n",
            "5    0.1250\n",
            "7    0.1250\n",
            "4    0.0625\n",
            "6    0.0625\n",
            "Name: proportion, dtype: float64\n"
          ]
        }
      ]
    },
    {
      "cell_type": "markdown",
      "source": [
        "## Filtrar o Eliminar Datos Duplicados\n",
        "\n",
        "### Filtrar\n",
        "Podemos obtener las filas en las que todas sus valores en cada columna es igual o usar `subset` para obtener solo las filas que tienen valores duplicados en una columna específica.\n"
      ],
      "metadata": {
        "id": "wrR2jA6VSwYz"
      }
    },
    {
      "cell_type": "code",
      "source": [
        "print(\"Filtrar: Todos los registros con datos similares en todas las columnas\")\n",
        "print(df[df.duplicated( keep=False)])\n",
        "\n",
        "print(\"Filtrar: Todos los registros con datos similares en la columna Edad\")\n",
        "print(df[df.duplicated(subset=['Edad'], keep=False)])\n",
        "\n",
        "print(\"Filtrar: Todos los registros (todas las columnas) sin duplicados\")\n",
        "print(df[~df.duplicated(keep=False)])\n"
      ],
      "metadata": {
        "colab": {
          "base_uri": "https://localhost:8080/"
        },
        "id": "zThG3ZdVTHYr",
        "outputId": "743eb54b-085a-493b-9c51-c60827216995"
      },
      "execution_count": 55,
      "outputs": [
        {
          "output_type": "stream",
          "name": "stdout",
          "text": [
            "Filtrar: Todos los registros con datos similares en todas las columnas\n",
            "    ID  Nombre  Edad  Salario\n",
            "0    1     Ana    25    50000\n",
            "1    2    Juan    30    60000\n",
            "2    3    Luis    35    55000\n",
            "4    1     Ana    25    50000\n",
            "5    2    Juan    30    60000\n",
            "6    2    Juan    30    60000\n",
            "7    3    Luis    35    55000\n",
            "8    5  Carlos    28    48000\n",
            "10   7   Mario    29    53000\n",
            "11   3    Luis    35    55000\n",
            "12   5  Carlos    28    48000\n",
            "13   7   Mario    29    53000\n",
            "14   1     Ana    25    50000\n",
            "15   2    Juan    30    60000\n",
            "Filtrar: Todos los registros con datos similares en la columna Edad\n",
            "    ID  Nombre  Edad  Salario\n",
            "0    1     Ana    25    50000\n",
            "1    2    Juan    30    60000\n",
            "2    3    Luis    35    55000\n",
            "4    1     Ana    25    50000\n",
            "5    2    Juan    30    60000\n",
            "6    2    Juan    30    60000\n",
            "7    3    Luis    35    55000\n",
            "8    5  Carlos    28    48000\n",
            "10   7   Mario    29    53000\n",
            "11   3    Luis    35    55000\n",
            "12   5  Carlos    28    48000\n",
            "13   7   Mario    29    53000\n",
            "14   1     Ana    25    50000\n",
            "15   2    Juan    30    60000\n",
            "Filtrar: Todos los registros (todas las columnas) sin duplicados\n",
            "   ID Nombre  Edad  Salario\n",
            "3   4   Sara    40    70000\n",
            "9   6  Elena    32    51000\n"
          ]
        }
      ]
    },
    {
      "cell_type": "markdown",
      "source": [
        "Para eliminar registros duplicados usamos la función `drop_duplicates()`. La sintaxis es la siguiente\n",
        "\n",
        "\n",
        "```python\n",
        "df.drop_duplicates(subset=None, keep='first', inplace=False)\n",
        "```\n",
        "Donde los parámetros pueden tomar los siguientes valores:\n",
        "\n",
        "* `subset=None`: Considera todas las columnas para detectar duplicados.\n",
        "  * Si se especifica `subset=['col1', 'col2']`, solo se eliminan duplicados basados en esas columnas.\n",
        "* `keep='first' (por defecto): Mantiene la primera aparición y elimina las demás.\n",
        "* `keep='last'`: Mantiene la última aparición y elimina las demás.\n",
        "* `keep=False`: Elimina todas las filas duplicadas.\n",
        "* `inplace=False`: Si es `True`, modifica el `DataFrame` original sin necesidad de reasignarlo.\n",
        "\n"
      ],
      "metadata": {
        "id": "0dfN2TKlVr-p"
      }
    },
    {
      "cell_type": "code",
      "source": [
        "# Eliminar duplicados y conservar solo la primera aparición\n",
        "df_sin_duplicados = df.drop_duplicates()\n",
        "print('\\nEliminar duplicados y conservar solo la primera aparición')\n",
        "print(df_sin_duplicados)\n",
        "\n",
        "#eliminar duplicados considerando la columna \"ID\"\n",
        "print('\\nEliminar duplicados considerando la columna ID y conserva la primera aparición')\n",
        "df_sin_duplicados = df.drop_duplicates(subset=['ID'])\n",
        "print(df_sin_duplicados)\n",
        "\n",
        "\n",
        "#conservar la última ocurrencia de cada duplicado\n",
        "print('\\nEliminar duplicados conservando la última ocurrencia de cada duplicado')\n",
        "df_sin_duplicados = df.drop_duplicates(keep='last')\n",
        "print(df_sin_duplicados)\n",
        "\n",
        "#eliminar todas las filas que tienen duplicados\n",
        "print('\\nEliminar todas las filas que tienen duplicados')\n",
        "df_sin_duplicados = df.drop_duplicates(keep=False)\n",
        "print(df_sin_duplicados)"
      ],
      "metadata": {
        "colab": {
          "base_uri": "https://localhost:8080/"
        },
        "id": "5PcOryebWone",
        "outputId": "e5458185-e1f9-40ba-b2b1-f04af9a41406"
      },
      "execution_count": 56,
      "outputs": [
        {
          "output_type": "stream",
          "name": "stdout",
          "text": [
            "\n",
            "Eliminar duplicados y conservar solo la primera aparición\n",
            "    ID  Nombre  Edad  Salario\n",
            "0    1     Ana    25    50000\n",
            "1    2    Juan    30    60000\n",
            "2    3    Luis    35    55000\n",
            "3    4    Sara    40    70000\n",
            "8    5  Carlos    28    48000\n",
            "9    6   Elena    32    51000\n",
            "10   7   Mario    29    53000\n",
            "\n",
            "Eliminar duplicados considerando la columna ID y conserva la primera aparición\n",
            "    ID  Nombre  Edad  Salario\n",
            "0    1     Ana    25    50000\n",
            "1    2    Juan    30    60000\n",
            "2    3    Luis    35    55000\n",
            "3    4    Sara    40    70000\n",
            "8    5  Carlos    28    48000\n",
            "9    6   Elena    32    51000\n",
            "10   7   Mario    29    53000\n",
            "\n",
            "Eliminar duplicados conservando la última ocurrencia de cada duplicado\n",
            "    ID  Nombre  Edad  Salario\n",
            "3    4    Sara    40    70000\n",
            "9    6   Elena    32    51000\n",
            "11   3    Luis    35    55000\n",
            "12   5  Carlos    28    48000\n",
            "13   7   Mario    29    53000\n",
            "14   1     Ana    25    50000\n",
            "15   2    Juan    30    60000\n",
            "\n",
            "Eliminar todas las filas que tienen duplicados\n",
            "   ID Nombre  Edad  Salario\n",
            "3   4   Sara    40    70000\n",
            "9   6  Elena    32    51000\n"
          ]
        }
      ]
    }
  ]
}